{
 "cells": [
  {
   "cell_type": "markdown",
   "id": "2b945d2b",
   "metadata": {},
   "source": [
    "# Classification Tutorial - Employee Attrition"
   ]
  },
  {
   "cell_type": "markdown",
   "id": "17303e64",
   "metadata": {},
   "source": [
    "#### A notebook about binary classification using a modified dataset from Kaggle.\n",
    "https://www.kaggle.com/c/sm/data"
   ]
  },
  {
   "cell_type": "markdown",
   "id": "80273cea",
   "metadata": {},
   "source": [
    "#### Import data and the necessary libraries"
   ]
  },
  {
   "cell_type": "code",
   "execution_count": 27,
   "id": "d9f9bfb3",
   "metadata": {},
   "outputs": [
    {
     "name": "stdout",
     "output_type": "stream",
     "text": [
      "Requirement already satisfied: xgboost in d:\\anaconda\\lib\\site-packages (1.5.2)\n",
      "Requirement already satisfied: scipy in d:\\anaconda\\lib\\site-packages (from xgboost) (1.7.1)\n",
      "Requirement already satisfied: numpy in d:\\anaconda\\lib\\site-packages (from xgboost) (1.20.3)\n"
     ]
    }
   ],
   "source": [
    "!pip install xgboost\n",
    "import pandas as pd\n",
    "import numpy as np\n",
    "import matplotlib.pyplot as plt\n",
    "from sklearn.metrics import confusion_matrix, classification_report, accuracy_score\n",
    "from sklearn.model_selection import train_test_split\n",
    "from sklearn.tree import DecisionTreeClassifier\n",
    "from sklearn.linear_model import LogisticRegression\n",
    "from sklearn.neighbors import KNeighborsClassifier\n",
    "from sklearn.svm import SVC\n",
    "from sklearn.ensemble import RandomForestClassifier, GradientBoostingClassifier, AdaBoostClassifier, ExtraTreesClassifier\n",
    "from xgboost import XGBClassifier\n",
    "from sklearn import model_selection\n",
    "from sklearn.model_selection import train_test_split\n",
    "from sklearn.preprocessing import Normalizer,StandardScaler"
   ]
  },
  {
   "cell_type": "code",
   "execution_count": 28,
   "id": "ca3a66ec",
   "metadata": {},
   "outputs": [],
   "source": [
    "pd.set_option('display.max_rows', 500)\n",
    "pd.set_option('display.max_columns', 500)\n",
    "pd.set_option('display.width', 1000)\n",
    "pd.set_option(\"display.precision\", 3)"
   ]
  },
  {
   "cell_type": "code",
   "execution_count": 29,
   "id": "271166bf",
   "metadata": {},
   "outputs": [
    {
     "data": {
      "text/plain": [
       "(14999, 8)"
      ]
     },
     "execution_count": 29,
     "metadata": {},
     "output_type": "execute_result"
    }
   ],
   "source": [
    "df = pd.read_csv('Employee_Attrition.csv')\n",
    "df.shape"
   ]
  },
  {
   "cell_type": "code",
   "execution_count": 30,
   "id": "65422c30",
   "metadata": {},
   "outputs": [
    {
     "data": {
      "text/html": [
       "<div>\n",
       "<style scoped>\n",
       "    .dataframe tbody tr th:only-of-type {\n",
       "        vertical-align: middle;\n",
       "    }\n",
       "\n",
       "    .dataframe tbody tr th {\n",
       "        vertical-align: top;\n",
       "    }\n",
       "\n",
       "    .dataframe thead th {\n",
       "        text-align: right;\n",
       "    }\n",
       "</style>\n",
       "<table border=\"1\" class=\"dataframe\">\n",
       "  <thead>\n",
       "    <tr style=\"text-align: right;\">\n",
       "      <th></th>\n",
       "      <th>satisfaction_level</th>\n",
       "      <th>last_evaluation</th>\n",
       "      <th>number_of_projects</th>\n",
       "      <th>average_monthly_hours</th>\n",
       "      <th>years_at_company</th>\n",
       "      <th>work_accident</th>\n",
       "      <th>promotion_last_5years</th>\n",
       "      <th>left</th>\n",
       "    </tr>\n",
       "  </thead>\n",
       "  <tbody>\n",
       "    <tr>\n",
       "      <th>0</th>\n",
       "      <td>0.38</td>\n",
       "      <td>0.53</td>\n",
       "      <td>2</td>\n",
       "      <td>157</td>\n",
       "      <td>3</td>\n",
       "      <td>0</td>\n",
       "      <td>0</td>\n",
       "      <td>1</td>\n",
       "    </tr>\n",
       "    <tr>\n",
       "      <th>1</th>\n",
       "      <td>0.80</td>\n",
       "      <td>0.86</td>\n",
       "      <td>5</td>\n",
       "      <td>262</td>\n",
       "      <td>6</td>\n",
       "      <td>0</td>\n",
       "      <td>0</td>\n",
       "      <td>1</td>\n",
       "    </tr>\n",
       "    <tr>\n",
       "      <th>2</th>\n",
       "      <td>0.11</td>\n",
       "      <td>0.88</td>\n",
       "      <td>7</td>\n",
       "      <td>272</td>\n",
       "      <td>4</td>\n",
       "      <td>0</td>\n",
       "      <td>0</td>\n",
       "      <td>1</td>\n",
       "    </tr>\n",
       "    <tr>\n",
       "      <th>3</th>\n",
       "      <td>0.72</td>\n",
       "      <td>0.87</td>\n",
       "      <td>5</td>\n",
       "      <td>223</td>\n",
       "      <td>5</td>\n",
       "      <td>0</td>\n",
       "      <td>0</td>\n",
       "      <td>1</td>\n",
       "    </tr>\n",
       "    <tr>\n",
       "      <th>4</th>\n",
       "      <td>0.37</td>\n",
       "      <td>0.52</td>\n",
       "      <td>2</td>\n",
       "      <td>159</td>\n",
       "      <td>3</td>\n",
       "      <td>0</td>\n",
       "      <td>0</td>\n",
       "      <td>1</td>\n",
       "    </tr>\n",
       "    <tr>\n",
       "      <th>5</th>\n",
       "      <td>0.41</td>\n",
       "      <td>0.50</td>\n",
       "      <td>2</td>\n",
       "      <td>153</td>\n",
       "      <td>3</td>\n",
       "      <td>0</td>\n",
       "      <td>0</td>\n",
       "      <td>1</td>\n",
       "    </tr>\n",
       "    <tr>\n",
       "      <th>6</th>\n",
       "      <td>0.10</td>\n",
       "      <td>0.77</td>\n",
       "      <td>6</td>\n",
       "      <td>247</td>\n",
       "      <td>4</td>\n",
       "      <td>0</td>\n",
       "      <td>0</td>\n",
       "      <td>1</td>\n",
       "    </tr>\n",
       "    <tr>\n",
       "      <th>7</th>\n",
       "      <td>0.92</td>\n",
       "      <td>0.85</td>\n",
       "      <td>5</td>\n",
       "      <td>259</td>\n",
       "      <td>5</td>\n",
       "      <td>0</td>\n",
       "      <td>0</td>\n",
       "      <td>1</td>\n",
       "    </tr>\n",
       "    <tr>\n",
       "      <th>8</th>\n",
       "      <td>0.89</td>\n",
       "      <td>1.00</td>\n",
       "      <td>5</td>\n",
       "      <td>224</td>\n",
       "      <td>5</td>\n",
       "      <td>0</td>\n",
       "      <td>0</td>\n",
       "      <td>1</td>\n",
       "    </tr>\n",
       "    <tr>\n",
       "      <th>9</th>\n",
       "      <td>0.42</td>\n",
       "      <td>0.53</td>\n",
       "      <td>2</td>\n",
       "      <td>142</td>\n",
       "      <td>3</td>\n",
       "      <td>0</td>\n",
       "      <td>0</td>\n",
       "      <td>1</td>\n",
       "    </tr>\n",
       "  </tbody>\n",
       "</table>\n",
       "</div>"
      ],
      "text/plain": [
       "   satisfaction_level  last_evaluation  number_of_projects  average_monthly_hours  years_at_company  work_accident  promotion_last_5years  left\n",
       "0                0.38             0.53                   2                    157                 3              0                      0     1\n",
       "1                0.80             0.86                   5                    262                 6              0                      0     1\n",
       "2                0.11             0.88                   7                    272                 4              0                      0     1\n",
       "3                0.72             0.87                   5                    223                 5              0                      0     1\n",
       "4                0.37             0.52                   2                    159                 3              0                      0     1\n",
       "5                0.41             0.50                   2                    153                 3              0                      0     1\n",
       "6                0.10             0.77                   6                    247                 4              0                      0     1\n",
       "7                0.92             0.85                   5                    259                 5              0                      0     1\n",
       "8                0.89             1.00                   5                    224                 5              0                      0     1\n",
       "9                0.42             0.53                   2                    142                 3              0                      0     1"
      ]
     },
     "execution_count": 30,
     "metadata": {},
     "output_type": "execute_result"
    }
   ],
   "source": [
    "df.head(10)"
   ]
  },
  {
   "cell_type": "code",
   "execution_count": 31,
   "id": "1bde86bb",
   "metadata": {},
   "outputs": [
    {
     "name": "stdout",
     "output_type": "stream",
     "text": [
      "<class 'pandas.core.frame.DataFrame'>\n",
      "RangeIndex: 14999 entries, 0 to 14998\n",
      "Data columns (total 8 columns):\n",
      " #   Column                 Non-Null Count  Dtype  \n",
      "---  ------                 --------------  -----  \n",
      " 0   satisfaction_level     14999 non-null  float64\n",
      " 1   last_evaluation        14999 non-null  float64\n",
      " 2   number_of_projects     14999 non-null  int64  \n",
      " 3   average_monthly_hours  14999 non-null  int64  \n",
      " 4   years_at_company       14999 non-null  int64  \n",
      " 5   work_accident          14999 non-null  int64  \n",
      " 6   promotion_last_5years  14999 non-null  int64  \n",
      " 7   left                   14999 non-null  int64  \n",
      "dtypes: float64(2), int64(6)\n",
      "memory usage: 937.6 KB\n"
     ]
    }
   ],
   "source": [
    "df.info()"
   ]
  },
  {
   "cell_type": "code",
   "execution_count": 32,
   "id": "eb28d9ba",
   "metadata": {},
   "outputs": [
    {
     "data": {
      "text/html": [
       "<div>\n",
       "<style scoped>\n",
       "    .dataframe tbody tr th:only-of-type {\n",
       "        vertical-align: middle;\n",
       "    }\n",
       "\n",
       "    .dataframe tbody tr th {\n",
       "        vertical-align: top;\n",
       "    }\n",
       "\n",
       "    .dataframe thead th {\n",
       "        text-align: right;\n",
       "    }\n",
       "</style>\n",
       "<table border=\"1\" class=\"dataframe\">\n",
       "  <thead>\n",
       "    <tr style=\"text-align: right;\">\n",
       "      <th></th>\n",
       "      <th>satisfaction_level</th>\n",
       "      <th>last_evaluation</th>\n",
       "      <th>number_of_projects</th>\n",
       "      <th>average_monthly_hours</th>\n",
       "      <th>years_at_company</th>\n",
       "      <th>work_accident</th>\n",
       "      <th>promotion_last_5years</th>\n",
       "      <th>left</th>\n",
       "    </tr>\n",
       "  </thead>\n",
       "  <tbody>\n",
       "    <tr>\n",
       "      <th>count</th>\n",
       "      <td>14999.000</td>\n",
       "      <td>14999.000</td>\n",
       "      <td>14999.000</td>\n",
       "      <td>14999.000</td>\n",
       "      <td>14999.000</td>\n",
       "      <td>14999.000</td>\n",
       "      <td>14999.000</td>\n",
       "      <td>14999.000</td>\n",
       "    </tr>\n",
       "    <tr>\n",
       "      <th>mean</th>\n",
       "      <td>0.613</td>\n",
       "      <td>0.716</td>\n",
       "      <td>3.803</td>\n",
       "      <td>201.050</td>\n",
       "      <td>3.498</td>\n",
       "      <td>0.145</td>\n",
       "      <td>0.021</td>\n",
       "      <td>0.238</td>\n",
       "    </tr>\n",
       "    <tr>\n",
       "      <th>std</th>\n",
       "      <td>0.249</td>\n",
       "      <td>0.171</td>\n",
       "      <td>1.233</td>\n",
       "      <td>49.943</td>\n",
       "      <td>1.460</td>\n",
       "      <td>0.352</td>\n",
       "      <td>0.144</td>\n",
       "      <td>0.426</td>\n",
       "    </tr>\n",
       "    <tr>\n",
       "      <th>min</th>\n",
       "      <td>0.090</td>\n",
       "      <td>0.360</td>\n",
       "      <td>2.000</td>\n",
       "      <td>96.000</td>\n",
       "      <td>2.000</td>\n",
       "      <td>0.000</td>\n",
       "      <td>0.000</td>\n",
       "      <td>0.000</td>\n",
       "    </tr>\n",
       "    <tr>\n",
       "      <th>25%</th>\n",
       "      <td>0.440</td>\n",
       "      <td>0.560</td>\n",
       "      <td>3.000</td>\n",
       "      <td>156.000</td>\n",
       "      <td>3.000</td>\n",
       "      <td>0.000</td>\n",
       "      <td>0.000</td>\n",
       "      <td>0.000</td>\n",
       "    </tr>\n",
       "    <tr>\n",
       "      <th>50%</th>\n",
       "      <td>0.640</td>\n",
       "      <td>0.720</td>\n",
       "      <td>4.000</td>\n",
       "      <td>200.000</td>\n",
       "      <td>3.000</td>\n",
       "      <td>0.000</td>\n",
       "      <td>0.000</td>\n",
       "      <td>0.000</td>\n",
       "    </tr>\n",
       "    <tr>\n",
       "      <th>75%</th>\n",
       "      <td>0.820</td>\n",
       "      <td>0.870</td>\n",
       "      <td>5.000</td>\n",
       "      <td>245.000</td>\n",
       "      <td>4.000</td>\n",
       "      <td>0.000</td>\n",
       "      <td>0.000</td>\n",
       "      <td>0.000</td>\n",
       "    </tr>\n",
       "    <tr>\n",
       "      <th>max</th>\n",
       "      <td>1.000</td>\n",
       "      <td>1.000</td>\n",
       "      <td>7.000</td>\n",
       "      <td>310.000</td>\n",
       "      <td>10.000</td>\n",
       "      <td>1.000</td>\n",
       "      <td>1.000</td>\n",
       "      <td>1.000</td>\n",
       "    </tr>\n",
       "  </tbody>\n",
       "</table>\n",
       "</div>"
      ],
      "text/plain": [
       "       satisfaction_level  last_evaluation  number_of_projects  average_monthly_hours  years_at_company  work_accident  promotion_last_5years       left\n",
       "count           14999.000        14999.000           14999.000              14999.000         14999.000      14999.000              14999.000  14999.000\n",
       "mean                0.613            0.716               3.803                201.050             3.498          0.145                  0.021      0.238\n",
       "std                 0.249            0.171               1.233                 49.943             1.460          0.352                  0.144      0.426\n",
       "min                 0.090            0.360               2.000                 96.000             2.000          0.000                  0.000      0.000\n",
       "25%                 0.440            0.560               3.000                156.000             3.000          0.000                  0.000      0.000\n",
       "50%                 0.640            0.720               4.000                200.000             3.000          0.000                  0.000      0.000\n",
       "75%                 0.820            0.870               5.000                245.000             4.000          0.000                  0.000      0.000\n",
       "max                 1.000            1.000               7.000                310.000            10.000          1.000                  1.000      1.000"
      ]
     },
     "execution_count": 32,
     "metadata": {},
     "output_type": "execute_result"
    }
   ],
   "source": [
    "df.describe()"
   ]
  },
  {
   "cell_type": "code",
   "execution_count": 33,
   "id": "251205b2",
   "metadata": {},
   "outputs": [
    {
     "data": {
      "text/html": [
       "<div>\n",
       "<style scoped>\n",
       "    .dataframe tbody tr th:only-of-type {\n",
       "        vertical-align: middle;\n",
       "    }\n",
       "\n",
       "    .dataframe tbody tr th {\n",
       "        vertical-align: top;\n",
       "    }\n",
       "\n",
       "    .dataframe thead th {\n",
       "        text-align: right;\n",
       "    }\n",
       "</style>\n",
       "<table border=\"1\" class=\"dataframe\">\n",
       "  <thead>\n",
       "    <tr style=\"text-align: right;\">\n",
       "      <th></th>\n",
       "      <th>satisfaction_level</th>\n",
       "      <th>last_evaluation</th>\n",
       "      <th>number_of_projects</th>\n",
       "      <th>average_monthly_hours</th>\n",
       "      <th>years_at_company</th>\n",
       "      <th>work_accident</th>\n",
       "      <th>promotion_last_5years</th>\n",
       "      <th>left</th>\n",
       "    </tr>\n",
       "  </thead>\n",
       "  <tbody>\n",
       "    <tr>\n",
       "      <th>satisfaction_level</th>\n",
       "      <td>1.000</td>\n",
       "      <td>0.105</td>\n",
       "      <td>-0.143</td>\n",
       "      <td>-0.020</td>\n",
       "      <td>-0.101</td>\n",
       "      <td>0.059</td>\n",
       "      <td>0.026</td>\n",
       "      <td>-0.388</td>\n",
       "    </tr>\n",
       "    <tr>\n",
       "      <th>last_evaluation</th>\n",
       "      <td>0.105</td>\n",
       "      <td>1.000</td>\n",
       "      <td>0.349</td>\n",
       "      <td>0.340</td>\n",
       "      <td>0.132</td>\n",
       "      <td>-0.007</td>\n",
       "      <td>-0.009</td>\n",
       "      <td>0.007</td>\n",
       "    </tr>\n",
       "    <tr>\n",
       "      <th>number_of_projects</th>\n",
       "      <td>-0.143</td>\n",
       "      <td>0.349</td>\n",
       "      <td>1.000</td>\n",
       "      <td>0.417</td>\n",
       "      <td>0.197</td>\n",
       "      <td>-0.005</td>\n",
       "      <td>-0.006</td>\n",
       "      <td>0.024</td>\n",
       "    </tr>\n",
       "    <tr>\n",
       "      <th>average_monthly_hours</th>\n",
       "      <td>-0.020</td>\n",
       "      <td>0.340</td>\n",
       "      <td>0.417</td>\n",
       "      <td>1.000</td>\n",
       "      <td>0.128</td>\n",
       "      <td>-0.010</td>\n",
       "      <td>-0.004</td>\n",
       "      <td>0.071</td>\n",
       "    </tr>\n",
       "    <tr>\n",
       "      <th>years_at_company</th>\n",
       "      <td>-0.101</td>\n",
       "      <td>0.132</td>\n",
       "      <td>0.197</td>\n",
       "      <td>0.128</td>\n",
       "      <td>1.000</td>\n",
       "      <td>0.002</td>\n",
       "      <td>0.067</td>\n",
       "      <td>0.145</td>\n",
       "    </tr>\n",
       "    <tr>\n",
       "      <th>work_accident</th>\n",
       "      <td>0.059</td>\n",
       "      <td>-0.007</td>\n",
       "      <td>-0.005</td>\n",
       "      <td>-0.010</td>\n",
       "      <td>0.002</td>\n",
       "      <td>1.000</td>\n",
       "      <td>0.039</td>\n",
       "      <td>-0.155</td>\n",
       "    </tr>\n",
       "    <tr>\n",
       "      <th>promotion_last_5years</th>\n",
       "      <td>0.026</td>\n",
       "      <td>-0.009</td>\n",
       "      <td>-0.006</td>\n",
       "      <td>-0.004</td>\n",
       "      <td>0.067</td>\n",
       "      <td>0.039</td>\n",
       "      <td>1.000</td>\n",
       "      <td>-0.062</td>\n",
       "    </tr>\n",
       "    <tr>\n",
       "      <th>left</th>\n",
       "      <td>-0.388</td>\n",
       "      <td>0.007</td>\n",
       "      <td>0.024</td>\n",
       "      <td>0.071</td>\n",
       "      <td>0.145</td>\n",
       "      <td>-0.155</td>\n",
       "      <td>-0.062</td>\n",
       "      <td>1.000</td>\n",
       "    </tr>\n",
       "  </tbody>\n",
       "</table>\n",
       "</div>"
      ],
      "text/plain": [
       "                       satisfaction_level  last_evaluation  number_of_projects  average_monthly_hours  years_at_company  work_accident  promotion_last_5years   left\n",
       "satisfaction_level                  1.000            0.105              -0.143                 -0.020            -0.101          0.059                  0.026 -0.388\n",
       "last_evaluation                     0.105            1.000               0.349                  0.340             0.132         -0.007                 -0.009  0.007\n",
       "number_of_projects                 -0.143            0.349               1.000                  0.417             0.197         -0.005                 -0.006  0.024\n",
       "average_monthly_hours              -0.020            0.340               0.417                  1.000             0.128         -0.010                 -0.004  0.071\n",
       "years_at_company                   -0.101            0.132               0.197                  0.128             1.000          0.002                  0.067  0.145\n",
       "work_accident                       0.059           -0.007              -0.005                 -0.010             0.002          1.000                  0.039 -0.155\n",
       "promotion_last_5years               0.026           -0.009              -0.006                 -0.004             0.067          0.039                  1.000 -0.062\n",
       "left                               -0.388            0.007               0.024                  0.071             0.145         -0.155                 -0.062  1.000"
      ]
     },
     "execution_count": 33,
     "metadata": {},
     "output_type": "execute_result"
    }
   ],
   "source": [
    "df.corr()"
   ]
  },
  {
   "cell_type": "code",
   "execution_count": 34,
   "id": "b738f28e",
   "metadata": {},
   "outputs": [
    {
     "data": {
      "text/plain": [
       "satisfaction_level       0\n",
       "last_evaluation          0\n",
       "number_of_projects       0\n",
       "average_monthly_hours    0\n",
       "years_at_company         0\n",
       "work_accident            0\n",
       "promotion_last_5years    0\n",
       "left                     0\n",
       "dtype: int64"
      ]
     },
     "execution_count": 34,
     "metadata": {},
     "output_type": "execute_result"
    }
   ],
   "source": [
    "df.isna().sum()"
   ]
  },
  {
   "cell_type": "code",
   "execution_count": 35,
   "id": "0d21de76",
   "metadata": {},
   "outputs": [
    {
     "data": {
      "text/plain": [
       "0    11428\n",
       "1     3571\n",
       "Name: left, dtype: int64"
      ]
     },
     "execution_count": 35,
     "metadata": {},
     "output_type": "execute_result"
    }
   ],
   "source": [
    "df.left.value_counts()"
   ]
  },
  {
   "cell_type": "markdown",
   "id": "29875113",
   "metadata": {},
   "source": [
    "#### We choose the dependent and the independent variables and define a repeated Stratified K-Fold cross validator."
   ]
  },
  {
   "cell_type": "code",
   "execution_count": 36,
   "id": "6d15f82d",
   "metadata": {},
   "outputs": [],
   "source": [
    "X = df.iloc[:,:-1]\n",
    "y = df.left\n",
    "cv = model_selection.RepeatedStratifiedKFold(n_splits=6, n_repeats=3, random_state=1)"
   ]
  },
  {
   "cell_type": "markdown",
   "id": "aa87c6c8",
   "metadata": {},
   "source": [
    "#### First, we try some basic alogrithms:"
   ]
  },
  {
   "cell_type": "code",
   "execution_count": 37,
   "id": "73ebb84b",
   "metadata": {},
   "outputs": [
    {
     "name": "stdout",
     "output_type": "stream",
     "text": [
      "CART: Mean Accuracy: 0.850 (0.004)\n",
      "LR: Mean Accuracy: 0.766 (0.006)\n",
      "SVM: Mean Accuracy: 0.784 (0.002)\n",
      "kNN: Mean Accuracy: 0.951 (0.004)\n"
     ]
    }
   ],
   "source": [
    "models = [\n",
    "    ('CART', DecisionTreeClassifier(max_depth=2)),\n",
    "    ('LR', LogisticRegression()),\n",
    "    ('SVM', SVC()),\n",
    "    ('kNN', KNeighborsClassifier(n_neighbors = 7))\n",
    "]\n",
    "\n",
    "for name, clf in models:\n",
    "    n_scores = model_selection.cross_val_score(clf, X, y, scoring='accuracy', cv=cv, n_jobs=-1)\n",
    "    print('{}: Mean Accuracy: {:.3f} ({:.3f})'.format(name,np.mean(n_scores), np.std(n_scores)))\n"
   ]
  },
  {
   "cell_type": "markdown",
   "id": "54fae9e9",
   "metadata": {},
   "source": [
    "#### Then, we move on to ensemble methods:"
   ]
  },
  {
   "cell_type": "code",
   "execution_count": 38,
   "id": "6bb963f9",
   "metadata": {},
   "outputs": [
    {
     "name": "stdout",
     "output_type": "stream",
     "text": [
      "RT: Mean Accuracy: 0.992 (0.002)\n",
      "GB: Mean Accuracy: 0.975 (0.003)\n",
      "XGB: Mean Accuracy: 0.987 (0.002)\n",
      "Ada: Mean Accuracy: 0.961 (0.004)\n",
      "Extra: Mean Accuracy: 0.990 (0.002)\n"
     ]
    }
   ],
   "source": [
    "models = [\n",
    "    ('RT', RandomForestClassifier()),\n",
    "    ('GB', GradientBoostingClassifier()),\n",
    "    ('XGB', XGBClassifier()),\n",
    "    ('Ada', AdaBoostClassifier(n_estimators=100)),\n",
    "    ('Extra', ExtraTreesClassifier(n_estimators=100))\n",
    "]\n",
    "\n",
    "for name, clf in models:\n",
    "    n_scores = model_selection.cross_val_score(clf, X, y, scoring='accuracy', cv=cv, n_jobs=-1)\n",
    "    print('{}: Mean Accuracy: {:.3f} ({:.3f})'.format(name,np.mean(n_scores), np.std(n_scores)))    "
   ]
  },
  {
   "cell_type": "markdown",
   "id": "c61646e0",
   "metadata": {},
   "source": [
    "#### We try some data preprocessing to check if we have any improvement in the results.  At first, we use data normalization:"
   ]
  },
  {
   "cell_type": "code",
   "execution_count": 39,
   "id": "691f66f1",
   "metadata": {},
   "outputs": [],
   "source": [
    "X_norm = Normalizer().fit_transform(X)"
   ]
  },
  {
   "cell_type": "code",
   "execution_count": 40,
   "id": "b09efb3f",
   "metadata": {},
   "outputs": [
    {
     "name": "stdout",
     "output_type": "stream",
     "text": [
      "RT: Mean Accuracy: 0.984 (0.002)\n",
      "GB: Mean Accuracy: 0.956 (0.005)\n",
      "XGB: Mean Accuracy: 0.980 (0.003)\n",
      "Ada: Mean Accuracy: 0.937 (0.004)\n",
      "Extra: Mean Accuracy: 0.984 (0.003)\n"
     ]
    }
   ],
   "source": [
    "models = [\n",
    "    ('RT', RandomForestClassifier()),\n",
    "    ('GB', GradientBoostingClassifier()),\n",
    "    ('XGB', XGBClassifier()),\n",
    "    ('Ada', AdaBoostClassifier(n_estimators=100)),\n",
    "    ('Extra', ExtraTreesClassifier(n_estimators=100))\n",
    "]\n",
    "\n",
    "for name, clf in models:\n",
    "    n_scores = model_selection.cross_val_score(clf, X_norm, y, scoring='accuracy', cv=cv, n_jobs=-1)\n",
    "    print('{}: Mean Accuracy: {:.3f} ({:.3f})'.format(name,np.mean(n_scores), np.std(n_scores)))   "
   ]
  },
  {
   "cell_type": "markdown",
   "id": "5f914580",
   "metadata": {},
   "source": [
    "#### And then data standardization:"
   ]
  },
  {
   "cell_type": "code",
   "execution_count": 41,
   "id": "a444f7b6",
   "metadata": {},
   "outputs": [],
   "source": [
    "X_scaled = StandardScaler().fit_transform(X)"
   ]
  },
  {
   "cell_type": "code",
   "execution_count": 42,
   "id": "a7dee093",
   "metadata": {},
   "outputs": [
    {
     "name": "stdout",
     "output_type": "stream",
     "text": [
      "RT: Mean Accuracy: 0.992 (0.002)\n",
      "GB: Mean Accuracy: 0.975 (0.003)\n",
      "XGB: Mean Accuracy: 0.987 (0.002)\n",
      "Ada: Mean Accuracy: 0.961 (0.004)\n",
      "Extra: Mean Accuracy: 0.990 (0.002)\n"
     ]
    }
   ],
   "source": [
    "models = [\n",
    "    ('RT', RandomForestClassifier()),\n",
    "    ('GB', GradientBoostingClassifier()),\n",
    "    ('XGB', XGBClassifier()),\n",
    "    ('Ada', AdaBoostClassifier(n_estimators=100)),\n",
    "    ('Extra', ExtraTreesClassifier(n_estimators=100))\n",
    "]\n",
    "\n",
    "for name, clf in models:\n",
    "    n_scores = model_selection.cross_val_score(clf, X_scaled, y, scoring='accuracy', cv=cv, n_jobs=-1)\n",
    "    print('{}: Mean Accuracy: {:.3f} ({:.3f})'.format(name,np.mean(n_scores), np.std(n_scores))) "
   ]
  },
  {
   "cell_type": "markdown",
   "id": "5349dc72",
   "metadata": {},
   "source": [
    "#### Afterwards, we try feature extraction using PCA method. For more information:\n",
    "https://en.wikipedia.org/wiki/Principal_component_analysis"
   ]
  },
  {
   "cell_type": "code",
   "execution_count": 43,
   "id": "40e282c5",
   "metadata": {},
   "outputs": [
    {
     "data": {
      "text/html": [
       "<div>\n",
       "<style scoped>\n",
       "    .dataframe tbody tr th:only-of-type {\n",
       "        vertical-align: middle;\n",
       "    }\n",
       "\n",
       "    .dataframe tbody tr th {\n",
       "        vertical-align: top;\n",
       "    }\n",
       "\n",
       "    .dataframe thead th {\n",
       "        text-align: right;\n",
       "    }\n",
       "</style>\n",
       "<table border=\"1\" class=\"dataframe\">\n",
       "  <thead>\n",
       "    <tr style=\"text-align: right;\">\n",
       "      <th></th>\n",
       "      <th>0</th>\n",
       "      <th>1</th>\n",
       "      <th>2</th>\n",
       "      <th>3</th>\n",
       "      <th>4</th>\n",
       "    </tr>\n",
       "  </thead>\n",
       "  <tbody>\n",
       "    <tr>\n",
       "      <th>0</th>\n",
       "      <td>-44.068</td>\n",
       "      <td>-0.686</td>\n",
       "      <td>1.203</td>\n",
       "      <td>-0.171</td>\n",
       "      <td>0.282</td>\n",
       "    </tr>\n",
       "    <tr>\n",
       "      <th>1</th>\n",
       "      <td>60.968</td>\n",
       "      <td>2.339</td>\n",
       "      <td>0.077</td>\n",
       "      <td>-0.123</td>\n",
       "      <td>-0.255</td>\n",
       "    </tr>\n",
       "    <tr>\n",
       "      <th>2</th>\n",
       "      <td>70.980</td>\n",
       "      <td>0.911</td>\n",
       "      <td>-2.321</td>\n",
       "      <td>-0.172</td>\n",
       "      <td>0.397</td>\n",
       "    </tr>\n",
       "    <tr>\n",
       "      <th>3</th>\n",
       "      <td>21.966</td>\n",
       "      <td>1.629</td>\n",
       "      <td>-0.546</td>\n",
       "      <td>-0.131</td>\n",
       "      <td>-0.182</td>\n",
       "    </tr>\n",
       "    <tr>\n",
       "      <th>4</th>\n",
       "      <td>-42.068</td>\n",
       "      <td>-0.698</td>\n",
       "      <td>1.221</td>\n",
       "      <td>-0.172</td>\n",
       "      <td>0.295</td>\n",
       "    </tr>\n",
       "    <tr>\n",
       "      <th>...</th>\n",
       "      <td>...</td>\n",
       "      <td>...</td>\n",
       "      <td>...</td>\n",
       "      <td>...</td>\n",
       "      <td>...</td>\n",
       "    </tr>\n",
       "    <tr>\n",
       "      <th>14994</th>\n",
       "      <td>-50.068</td>\n",
       "      <td>-0.647</td>\n",
       "      <td>1.149</td>\n",
       "      <td>-0.170</td>\n",
       "      <td>0.253</td>\n",
       "    </tr>\n",
       "    <tr>\n",
       "      <th>14995</th>\n",
       "      <td>-41.069</td>\n",
       "      <td>-0.705</td>\n",
       "      <td>1.231</td>\n",
       "      <td>-0.172</td>\n",
       "      <td>0.302</td>\n",
       "    </tr>\n",
       "    <tr>\n",
       "      <th>14996</th>\n",
       "      <td>-58.067</td>\n",
       "      <td>-0.595</td>\n",
       "      <td>1.078</td>\n",
       "      <td>-0.173</td>\n",
       "      <td>0.286</td>\n",
       "    </tr>\n",
       "    <tr>\n",
       "      <th>14997</th>\n",
       "      <td>78.970</td>\n",
       "      <td>0.588</td>\n",
       "      <td>-1.291</td>\n",
       "      <td>-0.174</td>\n",
       "      <td>0.412</td>\n",
       "    </tr>\n",
       "    <tr>\n",
       "      <th>14998</th>\n",
       "      <td>-43.068</td>\n",
       "      <td>-0.692</td>\n",
       "      <td>1.212</td>\n",
       "      <td>-0.172</td>\n",
       "      <td>0.294</td>\n",
       "    </tr>\n",
       "  </tbody>\n",
       "</table>\n",
       "<p>14999 rows × 5 columns</p>\n",
       "</div>"
      ],
      "text/plain": [
       "            0      1      2      3      4\n",
       "0     -44.068 -0.686  1.203 -0.171  0.282\n",
       "1      60.968  2.339  0.077 -0.123 -0.255\n",
       "2      70.980  0.911 -2.321 -0.172  0.397\n",
       "3      21.966  1.629 -0.546 -0.131 -0.182\n",
       "4     -42.068 -0.698  1.221 -0.172  0.295\n",
       "...       ...    ...    ...    ...    ...\n",
       "14994 -50.068 -0.647  1.149 -0.170  0.253\n",
       "14995 -41.069 -0.705  1.231 -0.172  0.302\n",
       "14996 -58.067 -0.595  1.078 -0.173  0.286\n",
       "14997  78.970  0.588 -1.291 -0.174  0.412\n",
       "14998 -43.068 -0.692  1.212 -0.172  0.294\n",
       "\n",
       "[14999 rows x 5 columns]"
      ]
     },
     "execution_count": 43,
     "metadata": {},
     "output_type": "execute_result"
    }
   ],
   "source": [
    "from sklearn.decomposition import PCA\n",
    "pca = PCA(n_components=5)\n",
    "X_pca = pd.DataFrame(pca.fit_transform(X))\n",
    "X_pca"
   ]
  },
  {
   "cell_type": "code",
   "execution_count": 44,
   "id": "fbe55f47",
   "metadata": {},
   "outputs": [
    {
     "name": "stdout",
     "output_type": "stream",
     "text": [
      "[9.98565340e-01 8.69246970e-04 4.73865973e-04 4.96932182e-05\n",
      " 2.43172315e-05]\n"
     ]
    }
   ],
   "source": [
    "print(pca.explained_variance_ratio_)"
   ]
  },
  {
   "cell_type": "code",
   "execution_count": 45,
   "id": "b11741be",
   "metadata": {},
   "outputs": [
    {
     "name": "stdout",
     "output_type": "stream",
     "text": [
      "RT: Mean Accuracy: 0.988 (0.002)\n",
      "GB: Mean Accuracy: 0.969 (0.004)\n",
      "XGB: Mean Accuracy: 0.985 (0.003)\n",
      "Ada: Mean Accuracy: 0.940 (0.003)\n",
      "Extra: Mean Accuracy: 0.987 (0.003)\n"
     ]
    }
   ],
   "source": [
    "models = [\n",
    "    ('RT', RandomForestClassifier(n_estimators = 100)),\n",
    "    ('GB', GradientBoostingClassifier()),\n",
    "    ('XGB', XGBClassifier()),\n",
    "    ('Ada', AdaBoostClassifier(n_estimators=100)),\n",
    "    ('Extra', ExtraTreesClassifier(n_estimators=100))\n",
    "]\n",
    "\n",
    "for name, clf in models:\n",
    "    n_scores = model_selection.cross_val_score(clf, X_pca, y, scoring='accuracy', cv=cv, n_jobs=-1)\n",
    "    print('{}: Mean Accuracy: {:.3f} ({:.3f})'.format(name,np.mean(n_scores), np.std(n_scores)))    "
   ]
  },
  {
   "cell_type": "markdown",
   "id": "8de737af",
   "metadata": {},
   "source": [
    "#### As we conclude from the above results, none of the aforementioned methods improves the results, therefore we choose to proceed with the initial dataset, and the algorithm that performed better (in our case Random Forest). We could also employ Grid/Random search for fine-tuning."
   ]
  },
  {
   "cell_type": "code",
   "execution_count": 46,
   "id": "5727e8a5",
   "metadata": {},
   "outputs": [],
   "source": [
    "X_train, X_test, y_train, y_test = train_test_split(\n",
    "         X, y, test_size = 0.3, random_state=7)"
   ]
  },
  {
   "cell_type": "code",
   "execution_count": 47,
   "id": "199c0163",
   "metadata": {},
   "outputs": [
    {
     "name": "stdout",
     "output_type": "stream",
     "text": [
      "Accuracy:  0.974\n"
     ]
    }
   ],
   "source": [
    "model = RandomForestClassifier(random_state=7,max_features='auto', n_estimators= 200, \n",
    "                            max_depth=6, criterion='entropy') \n",
    "model.fit(X_train, y_train) \n",
    "y_pred=model.predict(X_test) \n",
    "print(\"Accuracy: \",round(accuracy_score(y_test,y_pred),3))"
   ]
  },
  {
   "cell_type": "code",
   "execution_count": 48,
   "id": "c2e3de94",
   "metadata": {},
   "outputs": [
    {
     "name": "stdout",
     "output_type": "stream",
     "text": [
      "[[3436   13]\n",
      " [ 103  948]]\n"
     ]
    }
   ],
   "source": [
    "print(confusion_matrix(y_test,y_pred))"
   ]
  },
  {
   "cell_type": "code",
   "execution_count": 49,
   "id": "9c81abd9",
   "metadata": {},
   "outputs": [
    {
     "name": "stdout",
     "output_type": "stream",
     "text": [
      "              precision    recall  f1-score   support\n",
      "\n",
      "           0       0.97      1.00      0.98      3449\n",
      "           1       0.99      0.90      0.94      1051\n",
      "\n",
      "    accuracy                           0.97      4500\n",
      "   macro avg       0.98      0.95      0.96      4500\n",
      "weighted avg       0.97      0.97      0.97      4500\n",
      "\n"
     ]
    }
   ],
   "source": [
    "print(classification_report(y_test,y_pred))"
   ]
  }
 ],
 "metadata": {
  "kernelspec": {
   "display_name": "Python 3 (ipykernel)",
   "language": "python",
   "name": "python3"
  },
  "language_info": {
   "codemirror_mode": {
    "name": "ipython",
    "version": 3
   },
   "file_extension": ".py",
   "mimetype": "text/x-python",
   "name": "python",
   "nbconvert_exporter": "python",
   "pygments_lexer": "ipython3",
   "version": "3.9.7"
  }
 },
 "nbformat": 4,
 "nbformat_minor": 5
}
