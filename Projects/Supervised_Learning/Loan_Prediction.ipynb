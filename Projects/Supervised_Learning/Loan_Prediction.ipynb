{
  "nbformat": 4,
  "nbformat_minor": 0,
  "metadata": {
    "colab": {
      "name": "Loan_Prediction.ipynb",
      "provenance": [],
      "collapsed_sections": [],
      "toc_visible": true
    },
    "kernelspec": {
      "name": "python3",
      "display_name": "Python 3"
    },
    "language_info": {
      "name": "python"
    }
  },
  "cells": [
    {
      "cell_type": "markdown",
      "source": [
        "# **Loan Prediction Problem**"
      ],
      "metadata": {
        "id": "Eol1iV5J2IkE"
      }
    },
    {
      "cell_type": "markdown",
      "source": [
        "Binary classification with imbalanced classes problem. You can find the [dataset](https://www.kaggle.com/datasets/altruistdelhite04/loan-prediction-problem-dataset?datasetId=137197&sortBy=voteCount) here."
      ],
      "metadata": {
        "id": "PuP-zLKsL7xO"
      }
    },
    {
      "cell_type": "markdown",
      "source": [
        "## **Preprocessing and Data Analysis**"
      ],
      "metadata": {
        "id": "5za6Rr4e2Khi"
      }
    },
    {
      "cell_type": "markdown",
      "source": [
        "First, upload your Kaggle credentials JSON file. Then setup the Colab Notebook\n"
      ],
      "metadata": {
        "id": "_1rOmEUF2Kri"
      }
    },
    {
      "cell_type": "code",
      "source": [
        "! pip install kaggle\n",
        "! mkdir ~/.kaggle\n",
        "! cp kaggle.json ~/.kaggle/\n",
        "! chmod 600 ~/.kaggle/kaggle.json"
      ],
      "metadata": {
        "id": "tzQt6hQW2KzD"
      },
      "execution_count": null,
      "outputs": []
    },
    {
      "cell_type": "markdown",
      "source": [
        "Download dataset"
      ],
      "metadata": {
        "id": "sO8cluROLDW_"
      }
    },
    {
      "cell_type": "code",
      "source": [
        "! kaggle datasets download altruistdelhite04/loan-prediction-problem-dataset\n",
        "! unzip loan-prediction-problem-dataset.zip"
      ],
      "metadata": {
        "id": "uGHwPYNX2K3i"
      },
      "execution_count": null,
      "outputs": []
    },
    {
      "cell_type": "markdown",
      "source": [
        "Import libraries"
      ],
      "metadata": {
        "id": "8WURydACLHtT"
      }
    },
    {
      "cell_type": "code",
      "source": [
        "!pip install -U imbalanced-learn\n",
        "import pandas as pd\n",
        "import numpy as np\n",
        "import sklearn\n",
        "import matplotlib.pyplot as plt\n",
        "import seaborn as sns\n",
        "import warnings\n",
        "from collections import Counter\n",
        "\n",
        "warnings.filterwarnings('ignore')\n",
        "pd.set_option(\"display.precision\", 3)\n",
        "%matplotlib inline"
      ],
      "metadata": {
        "id": "ohuDeqoQ3Gwc"
      },
      "execution_count": null,
      "outputs": []
    },
    {
      "cell_type": "markdown",
      "source": [
        "Import dataset"
      ],
      "metadata": {
        "id": "x_rRH7eZLQM1"
      }
    },
    {
      "cell_type": "code",
      "source": [
        "train_df = pd.read_csv(\"/content/train_u6lujuX_CVtuZ9i.csv\")\n",
        "test_df = pd.read_csv(\"/content/test_Y3wMUE5_7gLdaTN.csv\")\n",
        "train_df.shape"
      ],
      "metadata": {
        "colab": {
          "base_uri": "https://localhost:8080/"
        },
        "id": "68yg_r6s28-a",
        "outputId": "3be14c9f-bf23-46bc-fa42-d26d9f759b83"
      },
      "execution_count": 158,
      "outputs": [
        {
          "output_type": "execute_result",
          "data": {
            "text/plain": [
              "(614, 13)"
            ]
          },
          "metadata": {},
          "execution_count": 158
        }
      ]
    },
    {
      "cell_type": "markdown",
      "source": [
        "Inspect data"
      ],
      "metadata": {
        "id": "G3Ktnh0ELXma"
      }
    },
    {
      "cell_type": "code",
      "source": [
        "train_df.head(10)"
      ],
      "metadata": {
        "colab": {
          "base_uri": "https://localhost:8080/",
          "height": 363
        },
        "id": "YGjO6gyn3a3E",
        "outputId": "90c906da-702e-4baf-e9f1-87a3a6d6d2bb"
      },
      "execution_count": 219,
      "outputs": [
        {
          "output_type": "execute_result",
          "data": {
            "text/plain": [
              "    Gender  Married  Dependents  Education  Self_Employed  ApplicantIncome  \\\n",
              "1      1.0      1.0         1.0        0.0            0.0             4583   \n",
              "2      1.0      1.0         0.0        0.0            1.0             3000   \n",
              "3      1.0      1.0         0.0        1.0            0.0             2583   \n",
              "4      1.0      0.0         0.0        0.0            0.0             6000   \n",
              "5      1.0      1.0         2.0        0.0            1.0             5417   \n",
              "6      1.0      1.0         0.0        1.0            0.0             2333   \n",
              "7      1.0      1.0         3.0        0.0            0.0             3036   \n",
              "8      1.0      1.0         2.0        0.0            0.0             4006   \n",
              "9      1.0      1.0         1.0        0.0            0.0            12841   \n",
              "10     1.0      1.0         2.0        0.0            0.0             3200   \n",
              "\n",
              "    CoapplicantIncome  LoanAmount  Loan_Amount_Term  Credit_History  \\\n",
              "1              1508.0       128.0             360.0             1.0   \n",
              "2                 0.0        66.0             360.0             1.0   \n",
              "3              2358.0       120.0             360.0             1.0   \n",
              "4                 0.0       141.0             360.0             1.0   \n",
              "5              4196.0       267.0             360.0             1.0   \n",
              "6              1516.0        95.0             360.0             1.0   \n",
              "7              2504.0       158.0             360.0             0.0   \n",
              "8              1526.0       168.0             360.0             1.0   \n",
              "9             10968.0       349.0             360.0             1.0   \n",
              "10              700.0        70.0             360.0             1.0   \n",
              "\n",
              "    Property_Area  Loan_Status  \n",
              "1             0.0          0.0  \n",
              "2             2.0          1.0  \n",
              "3             2.0          1.0  \n",
              "4             2.0          1.0  \n",
              "5             2.0          1.0  \n",
              "6             2.0          1.0  \n",
              "7             1.0          0.0  \n",
              "8             2.0          1.0  \n",
              "9             1.0          0.0  \n",
              "10            2.0          1.0  "
            ],
            "text/html": [
              "\n",
              "  <div id=\"df-df281334-0475-4ca8-b5aa-3534ddfcd803\">\n",
              "    <div class=\"colab-df-container\">\n",
              "      <div>\n",
              "<style scoped>\n",
              "    .dataframe tbody tr th:only-of-type {\n",
              "        vertical-align: middle;\n",
              "    }\n",
              "\n",
              "    .dataframe tbody tr th {\n",
              "        vertical-align: top;\n",
              "    }\n",
              "\n",
              "    .dataframe thead th {\n",
              "        text-align: right;\n",
              "    }\n",
              "</style>\n",
              "<table border=\"1\" class=\"dataframe\">\n",
              "  <thead>\n",
              "    <tr style=\"text-align: right;\">\n",
              "      <th></th>\n",
              "      <th>Gender</th>\n",
              "      <th>Married</th>\n",
              "      <th>Dependents</th>\n",
              "      <th>Education</th>\n",
              "      <th>Self_Employed</th>\n",
              "      <th>ApplicantIncome</th>\n",
              "      <th>CoapplicantIncome</th>\n",
              "      <th>LoanAmount</th>\n",
              "      <th>Loan_Amount_Term</th>\n",
              "      <th>Credit_History</th>\n",
              "      <th>Property_Area</th>\n",
              "      <th>Loan_Status</th>\n",
              "    </tr>\n",
              "  </thead>\n",
              "  <tbody>\n",
              "    <tr>\n",
              "      <th>1</th>\n",
              "      <td>1.0</td>\n",
              "      <td>1.0</td>\n",
              "      <td>1.0</td>\n",
              "      <td>0.0</td>\n",
              "      <td>0.0</td>\n",
              "      <td>4583</td>\n",
              "      <td>1508.0</td>\n",
              "      <td>128.0</td>\n",
              "      <td>360.0</td>\n",
              "      <td>1.0</td>\n",
              "      <td>0.0</td>\n",
              "      <td>0.0</td>\n",
              "    </tr>\n",
              "    <tr>\n",
              "      <th>2</th>\n",
              "      <td>1.0</td>\n",
              "      <td>1.0</td>\n",
              "      <td>0.0</td>\n",
              "      <td>0.0</td>\n",
              "      <td>1.0</td>\n",
              "      <td>3000</td>\n",
              "      <td>0.0</td>\n",
              "      <td>66.0</td>\n",
              "      <td>360.0</td>\n",
              "      <td>1.0</td>\n",
              "      <td>2.0</td>\n",
              "      <td>1.0</td>\n",
              "    </tr>\n",
              "    <tr>\n",
              "      <th>3</th>\n",
              "      <td>1.0</td>\n",
              "      <td>1.0</td>\n",
              "      <td>0.0</td>\n",
              "      <td>1.0</td>\n",
              "      <td>0.0</td>\n",
              "      <td>2583</td>\n",
              "      <td>2358.0</td>\n",
              "      <td>120.0</td>\n",
              "      <td>360.0</td>\n",
              "      <td>1.0</td>\n",
              "      <td>2.0</td>\n",
              "      <td>1.0</td>\n",
              "    </tr>\n",
              "    <tr>\n",
              "      <th>4</th>\n",
              "      <td>1.0</td>\n",
              "      <td>0.0</td>\n",
              "      <td>0.0</td>\n",
              "      <td>0.0</td>\n",
              "      <td>0.0</td>\n",
              "      <td>6000</td>\n",
              "      <td>0.0</td>\n",
              "      <td>141.0</td>\n",
              "      <td>360.0</td>\n",
              "      <td>1.0</td>\n",
              "      <td>2.0</td>\n",
              "      <td>1.0</td>\n",
              "    </tr>\n",
              "    <tr>\n",
              "      <th>5</th>\n",
              "      <td>1.0</td>\n",
              "      <td>1.0</td>\n",
              "      <td>2.0</td>\n",
              "      <td>0.0</td>\n",
              "      <td>1.0</td>\n",
              "      <td>5417</td>\n",
              "      <td>4196.0</td>\n",
              "      <td>267.0</td>\n",
              "      <td>360.0</td>\n",
              "      <td>1.0</td>\n",
              "      <td>2.0</td>\n",
              "      <td>1.0</td>\n",
              "    </tr>\n",
              "    <tr>\n",
              "      <th>6</th>\n",
              "      <td>1.0</td>\n",
              "      <td>1.0</td>\n",
              "      <td>0.0</td>\n",
              "      <td>1.0</td>\n",
              "      <td>0.0</td>\n",
              "      <td>2333</td>\n",
              "      <td>1516.0</td>\n",
              "      <td>95.0</td>\n",
              "      <td>360.0</td>\n",
              "      <td>1.0</td>\n",
              "      <td>2.0</td>\n",
              "      <td>1.0</td>\n",
              "    </tr>\n",
              "    <tr>\n",
              "      <th>7</th>\n",
              "      <td>1.0</td>\n",
              "      <td>1.0</td>\n",
              "      <td>3.0</td>\n",
              "      <td>0.0</td>\n",
              "      <td>0.0</td>\n",
              "      <td>3036</td>\n",
              "      <td>2504.0</td>\n",
              "      <td>158.0</td>\n",
              "      <td>360.0</td>\n",
              "      <td>0.0</td>\n",
              "      <td>1.0</td>\n",
              "      <td>0.0</td>\n",
              "    </tr>\n",
              "    <tr>\n",
              "      <th>8</th>\n",
              "      <td>1.0</td>\n",
              "      <td>1.0</td>\n",
              "      <td>2.0</td>\n",
              "      <td>0.0</td>\n",
              "      <td>0.0</td>\n",
              "      <td>4006</td>\n",
              "      <td>1526.0</td>\n",
              "      <td>168.0</td>\n",
              "      <td>360.0</td>\n",
              "      <td>1.0</td>\n",
              "      <td>2.0</td>\n",
              "      <td>1.0</td>\n",
              "    </tr>\n",
              "    <tr>\n",
              "      <th>9</th>\n",
              "      <td>1.0</td>\n",
              "      <td>1.0</td>\n",
              "      <td>1.0</td>\n",
              "      <td>0.0</td>\n",
              "      <td>0.0</td>\n",
              "      <td>12841</td>\n",
              "      <td>10968.0</td>\n",
              "      <td>349.0</td>\n",
              "      <td>360.0</td>\n",
              "      <td>1.0</td>\n",
              "      <td>1.0</td>\n",
              "      <td>0.0</td>\n",
              "    </tr>\n",
              "    <tr>\n",
              "      <th>10</th>\n",
              "      <td>1.0</td>\n",
              "      <td>1.0</td>\n",
              "      <td>2.0</td>\n",
              "      <td>0.0</td>\n",
              "      <td>0.0</td>\n",
              "      <td>3200</td>\n",
              "      <td>700.0</td>\n",
              "      <td>70.0</td>\n",
              "      <td>360.0</td>\n",
              "      <td>1.0</td>\n",
              "      <td>2.0</td>\n",
              "      <td>1.0</td>\n",
              "    </tr>\n",
              "  </tbody>\n",
              "</table>\n",
              "</div>\n",
              "      <button class=\"colab-df-convert\" onclick=\"convertToInteractive('df-df281334-0475-4ca8-b5aa-3534ddfcd803')\"\n",
              "              title=\"Convert this dataframe to an interactive table.\"\n",
              "              style=\"display:none;\">\n",
              "        \n",
              "  <svg xmlns=\"http://www.w3.org/2000/svg\" height=\"24px\"viewBox=\"0 0 24 24\"\n",
              "       width=\"24px\">\n",
              "    <path d=\"M0 0h24v24H0V0z\" fill=\"none\"/>\n",
              "    <path d=\"M18.56 5.44l.94 2.06.94-2.06 2.06-.94-2.06-.94-.94-2.06-.94 2.06-2.06.94zm-11 1L8.5 8.5l.94-2.06 2.06-.94-2.06-.94L8.5 2.5l-.94 2.06-2.06.94zm10 10l.94 2.06.94-2.06 2.06-.94-2.06-.94-.94-2.06-.94 2.06-2.06.94z\"/><path d=\"M17.41 7.96l-1.37-1.37c-.4-.4-.92-.59-1.43-.59-.52 0-1.04.2-1.43.59L10.3 9.45l-7.72 7.72c-.78.78-.78 2.05 0 2.83L4 21.41c.39.39.9.59 1.41.59.51 0 1.02-.2 1.41-.59l7.78-7.78 2.81-2.81c.8-.78.8-2.07 0-2.86zM5.41 20L4 18.59l7.72-7.72 1.47 1.35L5.41 20z\"/>\n",
              "  </svg>\n",
              "      </button>\n",
              "      \n",
              "  <style>\n",
              "    .colab-df-container {\n",
              "      display:flex;\n",
              "      flex-wrap:wrap;\n",
              "      gap: 12px;\n",
              "    }\n",
              "\n",
              "    .colab-df-convert {\n",
              "      background-color: #E8F0FE;\n",
              "      border: none;\n",
              "      border-radius: 50%;\n",
              "      cursor: pointer;\n",
              "      display: none;\n",
              "      fill: #1967D2;\n",
              "      height: 32px;\n",
              "      padding: 0 0 0 0;\n",
              "      width: 32px;\n",
              "    }\n",
              "\n",
              "    .colab-df-convert:hover {\n",
              "      background-color: #E2EBFA;\n",
              "      box-shadow: 0px 1px 2px rgba(60, 64, 67, 0.3), 0px 1px 3px 1px rgba(60, 64, 67, 0.15);\n",
              "      fill: #174EA6;\n",
              "    }\n",
              "\n",
              "    [theme=dark] .colab-df-convert {\n",
              "      background-color: #3B4455;\n",
              "      fill: #D2E3FC;\n",
              "    }\n",
              "\n",
              "    [theme=dark] .colab-df-convert:hover {\n",
              "      background-color: #434B5C;\n",
              "      box-shadow: 0px 1px 3px 1px rgba(0, 0, 0, 0.15);\n",
              "      filter: drop-shadow(0px 1px 2px rgba(0, 0, 0, 0.3));\n",
              "      fill: #FFFFFF;\n",
              "    }\n",
              "  </style>\n",
              "\n",
              "      <script>\n",
              "        const buttonEl =\n",
              "          document.querySelector('#df-df281334-0475-4ca8-b5aa-3534ddfcd803 button.colab-df-convert');\n",
              "        buttonEl.style.display =\n",
              "          google.colab.kernel.accessAllowed ? 'block' : 'none';\n",
              "\n",
              "        async function convertToInteractive(key) {\n",
              "          const element = document.querySelector('#df-df281334-0475-4ca8-b5aa-3534ddfcd803');\n",
              "          const dataTable =\n",
              "            await google.colab.kernel.invokeFunction('convertToInteractive',\n",
              "                                                     [key], {});\n",
              "          if (!dataTable) return;\n",
              "\n",
              "          const docLinkHtml = 'Like what you see? Visit the ' +\n",
              "            '<a target=\"_blank\" href=https://colab.research.google.com/notebooks/data_table.ipynb>data table notebook</a>'\n",
              "            + ' to learn more about interactive tables.';\n",
              "          element.innerHTML = '';\n",
              "          dataTable['output_type'] = 'display_data';\n",
              "          await google.colab.output.renderOutput(dataTable, element);\n",
              "          const docLink = document.createElement('div');\n",
              "          docLink.innerHTML = docLinkHtml;\n",
              "          element.appendChild(docLink);\n",
              "        }\n",
              "      </script>\n",
              "    </div>\n",
              "  </div>\n",
              "  "
            ]
          },
          "metadata": {},
          "execution_count": 219
        }
      ]
    },
    {
      "cell_type": "code",
      "source": [
        "train_df.info()"
      ],
      "metadata": {
        "colab": {
          "base_uri": "https://localhost:8080/"
        },
        "id": "aLXYt4e829O6",
        "outputId": "df2120ef-55a7-4caf-c6b4-700a65bab290"
      },
      "execution_count": 160,
      "outputs": [
        {
          "output_type": "stream",
          "name": "stdout",
          "text": [
            "<class 'pandas.core.frame.DataFrame'>\n",
            "RangeIndex: 614 entries, 0 to 613\n",
            "Data columns (total 13 columns):\n",
            " #   Column             Non-Null Count  Dtype  \n",
            "---  ------             --------------  -----  \n",
            " 0   Loan_ID            614 non-null    object \n",
            " 1   Gender             601 non-null    object \n",
            " 2   Married            611 non-null    object \n",
            " 3   Dependents         599 non-null    object \n",
            " 4   Education          614 non-null    object \n",
            " 5   Self_Employed      582 non-null    object \n",
            " 6   ApplicantIncome    614 non-null    int64  \n",
            " 7   CoapplicantIncome  614 non-null    float64\n",
            " 8   LoanAmount         592 non-null    float64\n",
            " 9   Loan_Amount_Term   600 non-null    float64\n",
            " 10  Credit_History     564 non-null    float64\n",
            " 11  Property_Area      614 non-null    object \n",
            " 12  Loan_Status        614 non-null    object \n",
            "dtypes: float64(4), int64(1), object(8)\n",
            "memory usage: 62.5+ KB\n"
          ]
        }
      ]
    },
    {
      "cell_type": "code",
      "source": [
        "train_df.isna().sum()"
      ],
      "metadata": {
        "colab": {
          "base_uri": "https://localhost:8080/"
        },
        "id": "BiTRG2G1tS64",
        "outputId": "5dd1ac4b-ee45-49b6-9cb9-05614fefeb92"
      },
      "execution_count": 161,
      "outputs": [
        {
          "output_type": "execute_result",
          "data": {
            "text/plain": [
              "Loan_ID               0\n",
              "Gender               13\n",
              "Married               3\n",
              "Dependents           15\n",
              "Education             0\n",
              "Self_Employed        32\n",
              "ApplicantIncome       0\n",
              "CoapplicantIncome     0\n",
              "LoanAmount           22\n",
              "Loan_Amount_Term     14\n",
              "Credit_History       50\n",
              "Property_Area         0\n",
              "Loan_Status           0\n",
              "dtype: int64"
            ]
          },
          "metadata": {},
          "execution_count": 161
        }
      ]
    },
    {
      "cell_type": "code",
      "source": [
        "train_df['Credit_History'] = train_df['Credit_History'].astype('O')\n",
        "train_df.drop('Loan_ID', axis=1, inplace=True)"
      ],
      "metadata": {
        "id": "w9hO7-Zqs5bY"
      },
      "execution_count": 162,
      "outputs": []
    },
    {
      "cell_type": "code",
      "source": [
        "train_df.describe(include='O').transpose()"
      ],
      "metadata": {
        "colab": {
          "base_uri": "https://localhost:8080/",
          "height": 300
        },
        "id": "sgcUVfN73p42",
        "outputId": "4c91c167-9b78-4ac8-9cfe-a4f15702320f"
      },
      "execution_count": 163,
      "outputs": [
        {
          "output_type": "execute_result",
          "data": {
            "text/plain": [
              "                count unique        top   freq\n",
              "Gender            601      2       Male    489\n",
              "Married           611      2        Yes    398\n",
              "Dependents        599      4          0    345\n",
              "Education         614      2   Graduate    480\n",
              "Self_Employed     582      2         No    500\n",
              "Credit_History  564.0    2.0        1.0  475.0\n",
              "Property_Area     614      3  Semiurban    233\n",
              "Loan_Status       614      2          Y    422"
            ],
            "text/html": [
              "\n",
              "  <div id=\"df-71667d09-085a-4eb3-a2f1-4976bc21bbc8\">\n",
              "    <div class=\"colab-df-container\">\n",
              "      <div>\n",
              "<style scoped>\n",
              "    .dataframe tbody tr th:only-of-type {\n",
              "        vertical-align: middle;\n",
              "    }\n",
              "\n",
              "    .dataframe tbody tr th {\n",
              "        vertical-align: top;\n",
              "    }\n",
              "\n",
              "    .dataframe thead th {\n",
              "        text-align: right;\n",
              "    }\n",
              "</style>\n",
              "<table border=\"1\" class=\"dataframe\">\n",
              "  <thead>\n",
              "    <tr style=\"text-align: right;\">\n",
              "      <th></th>\n",
              "      <th>count</th>\n",
              "      <th>unique</th>\n",
              "      <th>top</th>\n",
              "      <th>freq</th>\n",
              "    </tr>\n",
              "  </thead>\n",
              "  <tbody>\n",
              "    <tr>\n",
              "      <th>Gender</th>\n",
              "      <td>601</td>\n",
              "      <td>2</td>\n",
              "      <td>Male</td>\n",
              "      <td>489</td>\n",
              "    </tr>\n",
              "    <tr>\n",
              "      <th>Married</th>\n",
              "      <td>611</td>\n",
              "      <td>2</td>\n",
              "      <td>Yes</td>\n",
              "      <td>398</td>\n",
              "    </tr>\n",
              "    <tr>\n",
              "      <th>Dependents</th>\n",
              "      <td>599</td>\n",
              "      <td>4</td>\n",
              "      <td>0</td>\n",
              "      <td>345</td>\n",
              "    </tr>\n",
              "    <tr>\n",
              "      <th>Education</th>\n",
              "      <td>614</td>\n",
              "      <td>2</td>\n",
              "      <td>Graduate</td>\n",
              "      <td>480</td>\n",
              "    </tr>\n",
              "    <tr>\n",
              "      <th>Self_Employed</th>\n",
              "      <td>582</td>\n",
              "      <td>2</td>\n",
              "      <td>No</td>\n",
              "      <td>500</td>\n",
              "    </tr>\n",
              "    <tr>\n",
              "      <th>Credit_History</th>\n",
              "      <td>564.0</td>\n",
              "      <td>2.0</td>\n",
              "      <td>1.0</td>\n",
              "      <td>475.0</td>\n",
              "    </tr>\n",
              "    <tr>\n",
              "      <th>Property_Area</th>\n",
              "      <td>614</td>\n",
              "      <td>3</td>\n",
              "      <td>Semiurban</td>\n",
              "      <td>233</td>\n",
              "    </tr>\n",
              "    <tr>\n",
              "      <th>Loan_Status</th>\n",
              "      <td>614</td>\n",
              "      <td>2</td>\n",
              "      <td>Y</td>\n",
              "      <td>422</td>\n",
              "    </tr>\n",
              "  </tbody>\n",
              "</table>\n",
              "</div>\n",
              "      <button class=\"colab-df-convert\" onclick=\"convertToInteractive('df-71667d09-085a-4eb3-a2f1-4976bc21bbc8')\"\n",
              "              title=\"Convert this dataframe to an interactive table.\"\n",
              "              style=\"display:none;\">\n",
              "        \n",
              "  <svg xmlns=\"http://www.w3.org/2000/svg\" height=\"24px\"viewBox=\"0 0 24 24\"\n",
              "       width=\"24px\">\n",
              "    <path d=\"M0 0h24v24H0V0z\" fill=\"none\"/>\n",
              "    <path d=\"M18.56 5.44l.94 2.06.94-2.06 2.06-.94-2.06-.94-.94-2.06-.94 2.06-2.06.94zm-11 1L8.5 8.5l.94-2.06 2.06-.94-2.06-.94L8.5 2.5l-.94 2.06-2.06.94zm10 10l.94 2.06.94-2.06 2.06-.94-2.06-.94-.94-2.06-.94 2.06-2.06.94z\"/><path d=\"M17.41 7.96l-1.37-1.37c-.4-.4-.92-.59-1.43-.59-.52 0-1.04.2-1.43.59L10.3 9.45l-7.72 7.72c-.78.78-.78 2.05 0 2.83L4 21.41c.39.39.9.59 1.41.59.51 0 1.02-.2 1.41-.59l7.78-7.78 2.81-2.81c.8-.78.8-2.07 0-2.86zM5.41 20L4 18.59l7.72-7.72 1.47 1.35L5.41 20z\"/>\n",
              "  </svg>\n",
              "      </button>\n",
              "      \n",
              "  <style>\n",
              "    .colab-df-container {\n",
              "      display:flex;\n",
              "      flex-wrap:wrap;\n",
              "      gap: 12px;\n",
              "    }\n",
              "\n",
              "    .colab-df-convert {\n",
              "      background-color: #E8F0FE;\n",
              "      border: none;\n",
              "      border-radius: 50%;\n",
              "      cursor: pointer;\n",
              "      display: none;\n",
              "      fill: #1967D2;\n",
              "      height: 32px;\n",
              "      padding: 0 0 0 0;\n",
              "      width: 32px;\n",
              "    }\n",
              "\n",
              "    .colab-df-convert:hover {\n",
              "      background-color: #E2EBFA;\n",
              "      box-shadow: 0px 1px 2px rgba(60, 64, 67, 0.3), 0px 1px 3px 1px rgba(60, 64, 67, 0.15);\n",
              "      fill: #174EA6;\n",
              "    }\n",
              "\n",
              "    [theme=dark] .colab-df-convert {\n",
              "      background-color: #3B4455;\n",
              "      fill: #D2E3FC;\n",
              "    }\n",
              "\n",
              "    [theme=dark] .colab-df-convert:hover {\n",
              "      background-color: #434B5C;\n",
              "      box-shadow: 0px 1px 3px 1px rgba(0, 0, 0, 0.15);\n",
              "      filter: drop-shadow(0px 1px 2px rgba(0, 0, 0, 0.3));\n",
              "      fill: #FFFFFF;\n",
              "    }\n",
              "  </style>\n",
              "\n",
              "      <script>\n",
              "        const buttonEl =\n",
              "          document.querySelector('#df-71667d09-085a-4eb3-a2f1-4976bc21bbc8 button.colab-df-convert');\n",
              "        buttonEl.style.display =\n",
              "          google.colab.kernel.accessAllowed ? 'block' : 'none';\n",
              "\n",
              "        async function convertToInteractive(key) {\n",
              "          const element = document.querySelector('#df-71667d09-085a-4eb3-a2f1-4976bc21bbc8');\n",
              "          const dataTable =\n",
              "            await google.colab.kernel.invokeFunction('convertToInteractive',\n",
              "                                                     [key], {});\n",
              "          if (!dataTable) return;\n",
              "\n",
              "          const docLinkHtml = 'Like what you see? Visit the ' +\n",
              "            '<a target=\"_blank\" href=https://colab.research.google.com/notebooks/data_table.ipynb>data table notebook</a>'\n",
              "            + ' to learn more about interactive tables.';\n",
              "          element.innerHTML = '';\n",
              "          dataTable['output_type'] = 'display_data';\n",
              "          await google.colab.output.renderOutput(dataTable, element);\n",
              "          const docLink = document.createElement('div');\n",
              "          docLink.innerHTML = docLinkHtml;\n",
              "          element.appendChild(docLink);\n",
              "        }\n",
              "      </script>\n",
              "    </div>\n",
              "  </div>\n",
              "  "
            ]
          },
          "metadata": {},
          "execution_count": 163
        }
      ]
    },
    {
      "cell_type": "code",
      "source": [
        "train_df.describe().transpose()"
      ],
      "metadata": {
        "colab": {
          "base_uri": "https://localhost:8080/",
          "height": 175
        },
        "id": "SM0qMk167sRF",
        "outputId": "6ffce3cc-3f74-4cd8-906c-c858f8898f90"
      },
      "execution_count": 164,
      "outputs": [
        {
          "output_type": "execute_result",
          "data": {
            "text/plain": [
              "                   count      mean       std    min     25%     50%      75%  \\\n",
              "ApplicantIncome    614.0  5403.459  6109.042  150.0  2877.5  3812.5  5795.00   \n",
              "CoapplicantIncome  614.0  1621.246  2926.248    0.0     0.0  1188.5  2297.25   \n",
              "LoanAmount         592.0   146.412    85.587    9.0   100.0   128.0   168.00   \n",
              "Loan_Amount_Term   600.0   342.000    65.120   12.0   360.0   360.0   360.00   \n",
              "\n",
              "                       max  \n",
              "ApplicantIncome    81000.0  \n",
              "CoapplicantIncome  41667.0  \n",
              "LoanAmount           700.0  \n",
              "Loan_Amount_Term     480.0  "
            ],
            "text/html": [
              "\n",
              "  <div id=\"df-d9b2166c-e38d-4d80-826a-304d1b40f684\">\n",
              "    <div class=\"colab-df-container\">\n",
              "      <div>\n",
              "<style scoped>\n",
              "    .dataframe tbody tr th:only-of-type {\n",
              "        vertical-align: middle;\n",
              "    }\n",
              "\n",
              "    .dataframe tbody tr th {\n",
              "        vertical-align: top;\n",
              "    }\n",
              "\n",
              "    .dataframe thead th {\n",
              "        text-align: right;\n",
              "    }\n",
              "</style>\n",
              "<table border=\"1\" class=\"dataframe\">\n",
              "  <thead>\n",
              "    <tr style=\"text-align: right;\">\n",
              "      <th></th>\n",
              "      <th>count</th>\n",
              "      <th>mean</th>\n",
              "      <th>std</th>\n",
              "      <th>min</th>\n",
              "      <th>25%</th>\n",
              "      <th>50%</th>\n",
              "      <th>75%</th>\n",
              "      <th>max</th>\n",
              "    </tr>\n",
              "  </thead>\n",
              "  <tbody>\n",
              "    <tr>\n",
              "      <th>ApplicantIncome</th>\n",
              "      <td>614.0</td>\n",
              "      <td>5403.459</td>\n",
              "      <td>6109.042</td>\n",
              "      <td>150.0</td>\n",
              "      <td>2877.5</td>\n",
              "      <td>3812.5</td>\n",
              "      <td>5795.00</td>\n",
              "      <td>81000.0</td>\n",
              "    </tr>\n",
              "    <tr>\n",
              "      <th>CoapplicantIncome</th>\n",
              "      <td>614.0</td>\n",
              "      <td>1621.246</td>\n",
              "      <td>2926.248</td>\n",
              "      <td>0.0</td>\n",
              "      <td>0.0</td>\n",
              "      <td>1188.5</td>\n",
              "      <td>2297.25</td>\n",
              "      <td>41667.0</td>\n",
              "    </tr>\n",
              "    <tr>\n",
              "      <th>LoanAmount</th>\n",
              "      <td>592.0</td>\n",
              "      <td>146.412</td>\n",
              "      <td>85.587</td>\n",
              "      <td>9.0</td>\n",
              "      <td>100.0</td>\n",
              "      <td>128.0</td>\n",
              "      <td>168.00</td>\n",
              "      <td>700.0</td>\n",
              "    </tr>\n",
              "    <tr>\n",
              "      <th>Loan_Amount_Term</th>\n",
              "      <td>600.0</td>\n",
              "      <td>342.000</td>\n",
              "      <td>65.120</td>\n",
              "      <td>12.0</td>\n",
              "      <td>360.0</td>\n",
              "      <td>360.0</td>\n",
              "      <td>360.00</td>\n",
              "      <td>480.0</td>\n",
              "    </tr>\n",
              "  </tbody>\n",
              "</table>\n",
              "</div>\n",
              "      <button class=\"colab-df-convert\" onclick=\"convertToInteractive('df-d9b2166c-e38d-4d80-826a-304d1b40f684')\"\n",
              "              title=\"Convert this dataframe to an interactive table.\"\n",
              "              style=\"display:none;\">\n",
              "        \n",
              "  <svg xmlns=\"http://www.w3.org/2000/svg\" height=\"24px\"viewBox=\"0 0 24 24\"\n",
              "       width=\"24px\">\n",
              "    <path d=\"M0 0h24v24H0V0z\" fill=\"none\"/>\n",
              "    <path d=\"M18.56 5.44l.94 2.06.94-2.06 2.06-.94-2.06-.94-.94-2.06-.94 2.06-2.06.94zm-11 1L8.5 8.5l.94-2.06 2.06-.94-2.06-.94L8.5 2.5l-.94 2.06-2.06.94zm10 10l.94 2.06.94-2.06 2.06-.94-2.06-.94-.94-2.06-.94 2.06-2.06.94z\"/><path d=\"M17.41 7.96l-1.37-1.37c-.4-.4-.92-.59-1.43-.59-.52 0-1.04.2-1.43.59L10.3 9.45l-7.72 7.72c-.78.78-.78 2.05 0 2.83L4 21.41c.39.39.9.59 1.41.59.51 0 1.02-.2 1.41-.59l7.78-7.78 2.81-2.81c.8-.78.8-2.07 0-2.86zM5.41 20L4 18.59l7.72-7.72 1.47 1.35L5.41 20z\"/>\n",
              "  </svg>\n",
              "      </button>\n",
              "      \n",
              "  <style>\n",
              "    .colab-df-container {\n",
              "      display:flex;\n",
              "      flex-wrap:wrap;\n",
              "      gap: 12px;\n",
              "    }\n",
              "\n",
              "    .colab-df-convert {\n",
              "      background-color: #E8F0FE;\n",
              "      border: none;\n",
              "      border-radius: 50%;\n",
              "      cursor: pointer;\n",
              "      display: none;\n",
              "      fill: #1967D2;\n",
              "      height: 32px;\n",
              "      padding: 0 0 0 0;\n",
              "      width: 32px;\n",
              "    }\n",
              "\n",
              "    .colab-df-convert:hover {\n",
              "      background-color: #E2EBFA;\n",
              "      box-shadow: 0px 1px 2px rgba(60, 64, 67, 0.3), 0px 1px 3px 1px rgba(60, 64, 67, 0.15);\n",
              "      fill: #174EA6;\n",
              "    }\n",
              "\n",
              "    [theme=dark] .colab-df-convert {\n",
              "      background-color: #3B4455;\n",
              "      fill: #D2E3FC;\n",
              "    }\n",
              "\n",
              "    [theme=dark] .colab-df-convert:hover {\n",
              "      background-color: #434B5C;\n",
              "      box-shadow: 0px 1px 3px 1px rgba(0, 0, 0, 0.15);\n",
              "      filter: drop-shadow(0px 1px 2px rgba(0, 0, 0, 0.3));\n",
              "      fill: #FFFFFF;\n",
              "    }\n",
              "  </style>\n",
              "\n",
              "      <script>\n",
              "        const buttonEl =\n",
              "          document.querySelector('#df-d9b2166c-e38d-4d80-826a-304d1b40f684 button.colab-df-convert');\n",
              "        buttonEl.style.display =\n",
              "          google.colab.kernel.accessAllowed ? 'block' : 'none';\n",
              "\n",
              "        async function convertToInteractive(key) {\n",
              "          const element = document.querySelector('#df-d9b2166c-e38d-4d80-826a-304d1b40f684');\n",
              "          const dataTable =\n",
              "            await google.colab.kernel.invokeFunction('convertToInteractive',\n",
              "                                                     [key], {});\n",
              "          if (!dataTable) return;\n",
              "\n",
              "          const docLinkHtml = 'Like what you see? Visit the ' +\n",
              "            '<a target=\"_blank\" href=https://colab.research.google.com/notebooks/data_table.ipynb>data table notebook</a>'\n",
              "            + ' to learn more about interactive tables.';\n",
              "          element.innerHTML = '';\n",
              "          dataTable['output_type'] = 'display_data';\n",
              "          await google.colab.output.renderOutput(dataTable, element);\n",
              "          const docLink = document.createElement('div');\n",
              "          docLink.innerHTML = docLinkHtml;\n",
              "          element.appendChild(docLink);\n",
              "        }\n",
              "      </script>\n",
              "    </div>\n",
              "  </div>\n",
              "  "
            ]
          },
          "metadata": {},
          "execution_count": 164
        }
      ]
    },
    {
      "cell_type": "code",
      "source": [
        "train_df['Loan_Status'].value_counts()"
      ],
      "metadata": {
        "colab": {
          "base_uri": "https://localhost:8080/"
        },
        "id": "0PAxZtEU3qBx",
        "outputId": "cfe54eb1-62b4-4163-d865-25f73fe9ae3f"
      },
      "execution_count": 165,
      "outputs": [
        {
          "output_type": "execute_result",
          "data": {
            "text/plain": [
              "Y    422\n",
              "N    192\n",
              "Name: Loan_Status, dtype: int64"
            ]
          },
          "metadata": {},
          "execution_count": 165
        }
      ]
    },
    {
      "cell_type": "code",
      "source": [
        "plt.figure(figsize=(8,6))\n",
        "sns.countplot(train_df['Loan_Status'])\n",
        "plt.xlabel(\"Class Distribution\")\n",
        "plt.show()"
      ],
      "metadata": {
        "colab": {
          "base_uri": "https://localhost:8080/",
          "height": 388
        },
        "id": "0aM47IQC9LF6",
        "outputId": "318ca2f7-e7a7-467a-9a12-ce1a9e89c696"
      },
      "execution_count": 166,
      "outputs": [
        {
          "output_type": "display_data",
          "data": {
            "text/plain": [
              "<Figure size 576x432 with 1 Axes>"
            ],
            "image/png": "[encoded data removed]"
          },
          "metadata": {
            "needs_background": "light"
          }
        }
      ]
    },
    {
      "cell_type": "code",
      "source": [
        "fig = plt.figure(figsize = (15,15))\n",
        "ax = fig.gca()\n",
        "train_df.hist(ax = ax)\n",
        "plt.show()"
      ],
      "metadata": {
        "colab": {
          "base_uri": "https://localhost:8080/",
          "height": 879
        },
        "id": "vVLBIG1Q-PmV",
        "outputId": "92349c09-e8db-46f2-d7b3-4784c08a9c48"
      },
      "execution_count": 167,
      "outputs": [
        {
          "output_type": "display_data",
          "data": {
            "text/plain": [
              "<Figure size 1080x1080 with 4 Axes>"
            ],
            "image/png": "[encoded data removed]"
          },
          "metadata": {
            "needs_background": "light"
          }
        }
      ]
    },
    {
      "cell_type": "code",
      "source": [
        "train_df.columns"
      ],
      "metadata": {
        "colab": {
          "base_uri": "https://localhost:8080/"
        },
        "id": "qBitMMg6-PpL",
        "outputId": "3ce1124a-2738-4253-eaa5-6cd863278b47"
      },
      "execution_count": 168,
      "outputs": [
        {
          "output_type": "execute_result",
          "data": {
            "text/plain": [
              "Index(['Gender', 'Married', 'Dependents', 'Education', 'Self_Employed',\n",
              "       'ApplicantIncome', 'CoapplicantIncome', 'LoanAmount',\n",
              "       'Loan_Amount_Term', 'Credit_History', 'Property_Area', 'Loan_Status'],\n",
              "      dtype='object')"
            ]
          },
          "metadata": {},
          "execution_count": 168
        }
      ]
    },
    {
      "cell_type": "code",
      "source": [
        "plt.figure(figsize=(12,10))\n",
        "\n",
        "plt.subplot(1,3,1)\n",
        "sns.countplot(x='Gender', hue='Loan_Status', data=train_df)\n",
        "\n",
        "plt.subplot(1,3,2)\n",
        "sns.countplot(x='Married', hue='Loan_Status', data=train_df)\n",
        "\n",
        "plt.subplot(1,3,3)\n",
        "sns.countplot(x='Dependents', hue='Loan_Status', data=train_df)\n",
        "\n",
        "plt.tight_layout()\n",
        "plt.show()"
      ],
      "metadata": {
        "colab": {
          "base_uri": "https://localhost:8080/",
          "height": 729
        },
        "id": "b72cgNfT-PsA",
        "outputId": "824203dc-8a28-48f5-870b-5141474382bf"
      },
      "execution_count": 169,
      "outputs": [
        {
          "output_type": "display_data",
          "data": {
            "text/plain": [
              "<Figure size 864x720 with 3 Axes>"
            ],
            "image/png": "[encoded data removed]"
          },
          "metadata": {
            "needs_background": "light"
          }
        }
      ]
    },
    {
      "cell_type": "code",
      "source": [
        "plt.figure(figsize=(12,10))\n",
        "\n",
        "plt.subplot(1,3,1)\n",
        "sns.countplot(x='Education', hue='Loan_Status', data=train_df)\n",
        "\n",
        "plt.subplot(1,3,2)\n",
        "sns.countplot(x='Self_Employed', hue='Loan_Status', data=train_df)\n",
        "\n",
        "plt.subplot(1,3,3)\n",
        "sns.countplot(x='Property_Area', hue='Loan_Status', data=train_df)\n",
        "\n",
        "plt.tight_layout()\n",
        "plt.show()"
      ],
      "metadata": {
        "colab": {
          "base_uri": "https://localhost:8080/",
          "height": 729
        },
        "id": "PLTXKNwZrjXE",
        "outputId": "b58c9002-5fbf-46a9-9571-1ae497fdc415"
      },
      "execution_count": 170,
      "outputs": [
        {
          "output_type": "display_data",
          "data": {
            "text/plain": [
              "<Figure size 864x720 with 3 Axes>"
            ],
            "image/png": "[encoded data removed]"
          },
          "metadata": {
            "needs_background": "light"
          }
        }
      ]
    },
    {
      "cell_type": "markdown",
      "source": [
        "Drop columns with missing values"
      ],
      "metadata": {
        "id": "hJIKpkyPLdkj"
      }
    },
    {
      "cell_type": "code",
      "source": [
        "train_df.dropna(how='any',inplace = True)\n",
        "train_df.shape"
      ],
      "metadata": {
        "colab": {
          "base_uri": "https://localhost:8080/"
        },
        "id": "ybJIooou4R0x",
        "outputId": "8398c328-c3d4-4d9b-ca66-17802f9f68a4"
      },
      "execution_count": 171,
      "outputs": [
        {
          "output_type": "execute_result",
          "data": {
            "text/plain": [
              "(480, 12)"
            ]
          },
          "metadata": {},
          "execution_count": 171
        }
      ]
    },
    {
      "cell_type": "markdown",
      "source": [
        "Encode categorical data to numeric\n"
      ],
      "metadata": {
        "id": "h_W819UCLize"
      }
    },
    {
      "cell_type": "code",
      "source": [
        "from sklearn.preprocessing import OrdinalEncoder\n",
        "\n",
        "ord_enc = OrdinalEncoder()\n",
        "\n",
        "for col in list(train_df.select_dtypes(include=\"O\").columns):\n",
        "  train_df[col] = ord_enc.fit_transform(train_df[[col]])"
      ],
      "metadata": {
        "id": "hXII5VxvxdQe"
      },
      "execution_count": 172,
      "outputs": []
    },
    {
      "cell_type": "code",
      "source": [
        "corr = train_df.corr()\n",
        "corr.style.background_gradient(cmap='coolwarm').set_precision(2)"
      ],
      "metadata": {
        "colab": {
          "base_uri": "https://localhost:8080/",
          "height": 426
        },
        "id": "EmHolYjeydXJ",
        "outputId": "96d6c49d-c8be-4d2c-8685-cd6679e753f2"
      },
      "execution_count": 173,
      "outputs": [
        {
          "output_type": "execute_result",
          "data": {
            "text/plain": [
              "<pandas.io.formats.style.Styler at 0x7f62d0384610>"
            ],
            "text/html": [
              "<style type=\"text/css\">\n",
              "#T_0d5fb_row0_col0, #T_0d5fb_row1_col1, #T_0d5fb_row2_col2, #T_0d5fb_row3_col3, #T_0d5fb_row4_col4, #T_0d5fb_row5_col5, #T_0d5fb_row6_col6, #T_0d5fb_row7_col7, #T_0d5fb_row8_col8, #T_0d5fb_row9_col9, #T_0d5fb_row10_col10, #T_0d5fb_row11_col11 {\n",
              "  background-color: #b40426;\n",
              "  color: #f1f1f1;\n",
              "}\n",
              "#T_0d5fb_row0_col1 {\n",
              "  background-color: #c4d5f3;\n",
              "  color: #000000;\n",
              "}\n",
              "#T_0d5fb_row0_col2 {\n",
              "  background-color: #9abbff;\n",
              "  color: #000000;\n",
              "}\n",
              "#T_0d5fb_row0_col3, #T_0d5fb_row11_col1 {\n",
              "  background-color: #7a9df8;\n",
              "  color: #f1f1f1;\n",
              "}\n",
              "#T_0d5fb_row0_col4, #T_0d5fb_row3_col4, #T_0d5fb_row6_col9, #T_0d5fb_row8_col10, #T_0d5fb_row10_col8 {\n",
              "  background-color: #485fd1;\n",
              "  color: #f1f1f1;\n",
              "}\n",
              "#T_0d5fb_row0_col5, #T_0d5fb_row1_col5 {\n",
              "  background-color: #688aef;\n",
              "  color: #f1f1f1;\n",
              "}\n",
              "#T_0d5fb_row0_col6 {\n",
              "  background-color: #89acfd;\n",
              "  color: #000000;\n",
              "}\n",
              "#T_0d5fb_row0_col7, #T_0d5fb_row2_col5 {\n",
              "  background-color: #86a9fc;\n",
              "  color: #f1f1f1;\n",
              "}\n",
              "#T_0d5fb_row0_col8, #T_0d5fb_row6_col5 {\n",
              "  background-color: #3f53c6;\n",
              "  color: #f1f1f1;\n",
              "}\n",
              "#T_0d5fb_row0_col9, #T_0d5fb_row11_col5 {\n",
              "  background-color: #516ddb;\n",
              "  color: #f1f1f1;\n",
              "}\n",
              "#T_0d5fb_row0_col10, #T_0d5fb_row2_col6, #T_0d5fb_row2_col10, #T_0d5fb_row2_col11, #T_0d5fb_row3_col1, #T_0d5fb_row4_col6, #T_0d5fb_row9_col3, #T_0d5fb_row10_col3 {\n",
              "  background-color: #5977e3;\n",
              "  color: #f1f1f1;\n",
              "}\n",
              "#T_0d5fb_row0_col11, #T_0d5fb_row9_col8, #T_0d5fb_row11_col10 {\n",
              "  background-color: #6282ea;\n",
              "  color: #f1f1f1;\n",
              "}\n",
              "#T_0d5fb_row1_col0 {\n",
              "  background-color: #c1d4f4;\n",
              "  color: #000000;\n",
              "}\n",
              "#T_0d5fb_row1_col2 {\n",
              "  background-color: #ccd9ed;\n",
              "  color: #000000;\n",
              "}\n",
              "#T_0d5fb_row1_col3 {\n",
              "  background-color: #6a8bef;\n",
              "  color: #f1f1f1;\n",
              "}\n",
              "#T_0d5fb_row1_col4, #T_0d5fb_row4_col8, #T_0d5fb_row9_col2, #T_0d5fb_row9_col5 {\n",
              "  background-color: #4e68d8;\n",
              "  color: #f1f1f1;\n",
              "}\n",
              "#T_0d5fb_row1_col6 {\n",
              "  background-color: #799cf8;\n",
              "  color: #f1f1f1;\n",
              "}\n",
              "#T_0d5fb_row1_col7 {\n",
              "  background-color: #9fbfff;\n",
              "  color: #000000;\n",
              "}\n",
              "#T_0d5fb_row1_col8, #T_0d5fb_row3_col5, #T_0d5fb_row3_col7, #T_0d5fb_row3_col9, #T_0d5fb_row3_col11, #T_0d5fb_row5_col6, #T_0d5fb_row5_col9, #T_0d5fb_row7_col3, #T_0d5fb_row7_col10, #T_0d5fb_row7_col11, #T_0d5fb_row8_col0, #T_0d5fb_row8_col1, #T_0d5fb_row8_col2, #T_0d5fb_row10_col4 {\n",
              "  background-color: #3b4cc0;\n",
              "  color: #f1f1f1;\n",
              "}\n",
              "#T_0d5fb_row1_col9, #T_0d5fb_row4_col0, #T_0d5fb_row10_col0 {\n",
              "  background-color: #536edd;\n",
              "  color: #f1f1f1;\n",
              "}\n",
              "#T_0d5fb_row1_col10, #T_0d5fb_row3_col0 {\n",
              "  background-color: #6485ec;\n",
              "  color: #f1f1f1;\n",
              "}\n",
              "#T_0d5fb_row1_col11, #T_0d5fb_row2_col3 {\n",
              "  background-color: #7093f3;\n",
              "  color: #f1f1f1;\n",
              "}\n",
              "#T_0d5fb_row2_col0 {\n",
              "  background-color: #98b9ff;\n",
              "  color: #000000;\n",
              "}\n",
              "#T_0d5fb_row2_col1 {\n",
              "  background-color: #cedaeb;\n",
              "  color: #000000;\n",
              "}\n",
              "#T_0d5fb_row2_col4, #T_0d5fb_row6_col8, #T_0d5fb_row9_col6, #T_0d5fb_row11_col8 {\n",
              "  background-color: #5673e0;\n",
              "  color: #f1f1f1;\n",
              "}\n",
              "#T_0d5fb_row2_col7 {\n",
              "  background-color: #9dbdff;\n",
              "  color: #000000;\n",
              "}\n",
              "#T_0d5fb_row2_col8 {\n",
              "  background-color: #3d50c3;\n",
              "  color: #f1f1f1;\n",
              "}\n",
              "#T_0d5fb_row2_col9 {\n",
              "  background-color: #4358cb;\n",
              "  color: #f1f1f1;\n",
              "}\n",
              "#T_0d5fb_row3_col2 {\n",
              "  background-color: #5e7de7;\n",
              "  color: #f1f1f1;\n",
              "}\n",
              "#T_0d5fb_row3_col6, #T_0d5fb_row4_col9, #T_0d5fb_row4_col11 {\n",
              "  background-color: #445acc;\n",
              "  color: #f1f1f1;\n",
              "}\n",
              "#T_0d5fb_row3_col8 {\n",
              "  background-color: #3c4ec2;\n",
              "  color: #f1f1f1;\n",
              "}\n",
              "#T_0d5fb_row3_col10, #T_0d5fb_row6_col4, #T_0d5fb_row10_col9 {\n",
              "  background-color: #4961d2;\n",
              "  color: #f1f1f1;\n",
              "}\n",
              "#T_0d5fb_row4_col1, #T_0d5fb_row5_col0, #T_0d5fb_row9_col7 {\n",
              "  background-color: #5d7ce6;\n",
              "  color: #f1f1f1;\n",
              "}\n",
              "#T_0d5fb_row4_col2, #T_0d5fb_row5_col1, #T_0d5fb_row10_col1 {\n",
              "  background-color: #6384eb;\n",
              "  color: #f1f1f1;\n",
              "}\n",
              "#T_0d5fb_row4_col3, #T_0d5fb_row7_col8, #T_0d5fb_row11_col0 {\n",
              "  background-color: #6788ee;\n",
              "  color: #f1f1f1;\n",
              "}\n",
              "#T_0d5fb_row4_col5 {\n",
              "  background-color: #93b5fe;\n",
              "  color: #000000;\n",
              "}\n",
              "#T_0d5fb_row4_col7 {\n",
              "  background-color: #8caffe;\n",
              "  color: #000000;\n",
              "}\n",
              "#T_0d5fb_row4_col10, #T_0d5fb_row5_col10, #T_0d5fb_row10_col7 {\n",
              "  background-color: #4a63d3;\n",
              "  color: #f1f1f1;\n",
              "}\n",
              "#T_0d5fb_row5_col2, #T_0d5fb_row5_col4 {\n",
              "  background-color: #7ea1fa;\n",
              "  color: #f1f1f1;\n",
              "}\n",
              "#T_0d5fb_row5_col3 {\n",
              "  background-color: #455cce;\n",
              "  color: #f1f1f1;\n",
              "}\n",
              "#T_0d5fb_row5_col7 {\n",
              "  background-color: #edd2c3;\n",
              "  color: #000000;\n",
              "}\n",
              "#T_0d5fb_row5_col8, #T_0d5fb_row6_col2, #T_0d5fb_row10_col2, #T_0d5fb_row11_col3, #T_0d5fb_row11_col7 {\n",
              "  background-color: #5572df;\n",
              "  color: #f1f1f1;\n",
              "}\n",
              "#T_0d5fb_row5_col11, #T_0d5fb_row9_col4 {\n",
              "  background-color: #4257c9;\n",
              "  color: #f1f1f1;\n",
              "}\n",
              "#T_0d5fb_row6_col0 {\n",
              "  background-color: #84a7fc;\n",
              "  color: #f1f1f1;\n",
              "}\n",
              "#T_0d5fb_row6_col1, #T_0d5fb_row8_col7 {\n",
              "  background-color: #779af7;\n",
              "  color: #f1f1f1;\n",
              "}\n",
              "#T_0d5fb_row6_col3, #T_0d5fb_row8_col9 {\n",
              "  background-color: #5470de;\n",
              "  color: #f1f1f1;\n",
              "}\n",
              "#T_0d5fb_row6_col7 {\n",
              "  background-color: #a2c1ff;\n",
              "  color: #000000;\n",
              "}\n",
              "#T_0d5fb_row6_col10, #T_0d5fb_row9_col0 {\n",
              "  background-color: #5a78e4;\n",
              "  color: #f1f1f1;\n",
              "}\n",
              "#T_0d5fb_row6_col11 {\n",
              "  background-color: #4055c8;\n",
              "  color: #f1f1f1;\n",
              "}\n",
              "#T_0d5fb_row7_col0 {\n",
              "  background-color: #7295f4;\n",
              "  color: #f1f1f1;\n",
              "}\n",
              "#T_0d5fb_row7_col1 {\n",
              "  background-color: #92b4fe;\n",
              "  color: #000000;\n",
              "}\n",
              "#T_0d5fb_row7_col2 {\n",
              "  background-color: #8badfd;\n",
              "  color: #000000;\n",
              "}\n",
              "#T_0d5fb_row7_col4 {\n",
              "  background-color: #6e90f2;\n",
              "  color: #f1f1f1;\n",
              "}\n",
              "#T_0d5fb_row7_col5, #T_0d5fb_row11_col9 {\n",
              "  background-color: #ead5c9;\n",
              "  color: #000000;\n",
              "}\n",
              "#T_0d5fb_row7_col6 {\n",
              "  background-color: #94b6ff;\n",
              "  color: #000000;\n",
              "}\n",
              "#T_0d5fb_row7_col9, #T_0d5fb_row8_col4, #T_0d5fb_row11_col4 {\n",
              "  background-color: #3e51c5;\n",
              "  color: #f1f1f1;\n",
              "}\n",
              "#T_0d5fb_row8_col3, #T_0d5fb_row8_col11 {\n",
              "  background-color: #4c66d6;\n",
              "  color: #f1f1f1;\n",
              "}\n",
              "#T_0d5fb_row8_col5, #T_0d5fb_row10_col6 {\n",
              "  background-color: #5b7ae5;\n",
              "  color: #f1f1f1;\n",
              "}\n",
              "#T_0d5fb_row8_col6, #T_0d5fb_row9_col10, #T_0d5fb_row10_col11 {\n",
              "  background-color: #5875e1;\n",
              "  color: #f1f1f1;\n",
              "}\n",
              "#T_0d5fb_row9_col1 {\n",
              "  background-color: #6180e9;\n",
              "  color: #f1f1f1;\n",
              "}\n",
              "#T_0d5fb_row9_col11 {\n",
              "  background-color: #ebd3c6;\n",
              "  color: #000000;\n",
              "}\n",
              "#T_0d5fb_row10_col5 {\n",
              "  background-color: #4f69d9;\n",
              "  color: #f1f1f1;\n",
              "}\n",
              "#T_0d5fb_row11_col2 {\n",
              "  background-color: #5f7fe8;\n",
              "  color: #f1f1f1;\n",
              "}\n",
              "#T_0d5fb_row11_col6 {\n",
              "  background-color: #4b64d5;\n",
              "  color: #f1f1f1;\n",
              "}\n",
              "</style>\n",
              "<table id=\"T_0d5fb_\" class=\"dataframe\">\n",
              "  <thead>\n",
              "    <tr>\n",
              "      <th class=\"blank level0\" >&nbsp;</th>\n",
              "      <th class=\"col_heading level0 col0\" >Gender</th>\n",
              "      <th class=\"col_heading level0 col1\" >Married</th>\n",
              "      <th class=\"col_heading level0 col2\" >Dependents</th>\n",
              "      <th class=\"col_heading level0 col3\" >Education</th>\n",
              "      <th class=\"col_heading level0 col4\" >Self_Employed</th>\n",
              "      <th class=\"col_heading level0 col5\" >ApplicantIncome</th>\n",
              "      <th class=\"col_heading level0 col6\" >CoapplicantIncome</th>\n",
              "      <th class=\"col_heading level0 col7\" >LoanAmount</th>\n",
              "      <th class=\"col_heading level0 col8\" >Loan_Amount_Term</th>\n",
              "      <th class=\"col_heading level0 col9\" >Credit_History</th>\n",
              "      <th class=\"col_heading level0 col10\" >Property_Area</th>\n",
              "      <th class=\"col_heading level0 col11\" >Loan_Status</th>\n",
              "    </tr>\n",
              "  </thead>\n",
              "  <tbody>\n",
              "    <tr>\n",
              "      <th id=\"T_0d5fb_level0_row0\" class=\"row_heading level0 row0\" >Gender</th>\n",
              "      <td id=\"T_0d5fb_row0_col0\" class=\"data row0 col0\" >1.00</td>\n",
              "      <td id=\"T_0d5fb_row0_col1\" class=\"data row0 col1\" >0.35</td>\n",
              "      <td id=\"T_0d5fb_row0_col2\" class=\"data row0 col2\" >0.22</td>\n",
              "      <td id=\"T_0d5fb_row0_col3\" class=\"data row0 col3\" >0.06</td>\n",
              "      <td id=\"T_0d5fb_row0_col4\" class=\"data row0 col4\" >-0.00</td>\n",
              "      <td id=\"T_0d5fb_row0_col5\" class=\"data row0 col5\" >0.03</td>\n",
              "      <td id=\"T_0d5fb_row0_col6\" class=\"data row0 col6\" >0.16</td>\n",
              "      <td id=\"T_0d5fb_row0_col7\" class=\"data row0 col7\" >0.10</td>\n",
              "      <td id=\"T_0d5fb_row0_col8\" class=\"data row0 col8\" >-0.09</td>\n",
              "      <td id=\"T_0d5fb_row0_col9\" class=\"data row0 col9\" >0.02</td>\n",
              "      <td id=\"T_0d5fb_row0_col10\" class=\"data row0 col10\" >-0.00</td>\n",
              "      <td id=\"T_0d5fb_row0_col11\" class=\"data row0 col11\" >0.06</td>\n",
              "    </tr>\n",
              "    <tr>\n",
              "      <th id=\"T_0d5fb_level0_row1\" class=\"row_heading level0 row1\" >Married</th>\n",
              "      <td id=\"T_0d5fb_row1_col0\" class=\"data row1 col0\" >0.35</td>\n",
              "      <td id=\"T_0d5fb_row1_col1\" class=\"data row1 col1\" >1.00</td>\n",
              "      <td id=\"T_0d5fb_row1_col2\" class=\"data row1 col2\" >0.39</td>\n",
              "      <td id=\"T_0d5fb_row1_col3\" class=\"data row1 col3\" >0.00</td>\n",
              "      <td id=\"T_0d5fb_row1_col4\" class=\"data row1 col4\" >0.02</td>\n",
              "      <td id=\"T_0d5fb_row1_col5\" class=\"data row1 col5\" >0.04</td>\n",
              "      <td id=\"T_0d5fb_row1_col6\" class=\"data row1 col6\" >0.10</td>\n",
              "      <td id=\"T_0d5fb_row1_col7\" class=\"data row1 col7\" >0.18</td>\n",
              "      <td id=\"T_0d5fb_row1_col8\" class=\"data row1 col8\" >-0.11</td>\n",
              "      <td id=\"T_0d5fb_row1_col9\" class=\"data row1 col9\" >0.03</td>\n",
              "      <td id=\"T_0d5fb_row1_col10\" class=\"data row1 col10\" >0.04</td>\n",
              "      <td id=\"T_0d5fb_row1_col11\" class=\"data row1 col11\" >0.11</td>\n",
              "    </tr>\n",
              "    <tr>\n",
              "      <th id=\"T_0d5fb_level0_row2\" class=\"row_heading level0 row2\" >Dependents</th>\n",
              "      <td id=\"T_0d5fb_row2_col0\" class=\"data row2 col0\" >0.22</td>\n",
              "      <td id=\"T_0d5fb_row2_col1\" class=\"data row2 col1\" >0.39</td>\n",
              "      <td id=\"T_0d5fb_row2_col2\" class=\"data row2 col2\" >1.00</td>\n",
              "      <td id=\"T_0d5fb_row2_col3\" class=\"data row2 col3\" >0.03</td>\n",
              "      <td id=\"T_0d5fb_row2_col4\" class=\"data row2 col4\" >0.05</td>\n",
              "      <td id=\"T_0d5fb_row2_col5\" class=\"data row2 col5\" >0.13</td>\n",
              "      <td id=\"T_0d5fb_row2_col6\" class=\"data row2 col6\" >-0.00</td>\n",
              "      <td id=\"T_0d5fb_row2_col7\" class=\"data row2 col7\" >0.17</td>\n",
              "      <td id=\"T_0d5fb_row2_col8\" class=\"data row2 col8\" >-0.10</td>\n",
              "      <td id=\"T_0d5fb_row2_col9\" class=\"data row2 col9\" >-0.03</td>\n",
              "      <td id=\"T_0d5fb_row2_col10\" class=\"data row2 col10\" >0.00</td>\n",
              "      <td id=\"T_0d5fb_row2_col11\" class=\"data row2 col11\" >0.04</td>\n",
              "    </tr>\n",
              "    <tr>\n",
              "      <th id=\"T_0d5fb_level0_row3\" class=\"row_heading level0 row3\" >Education</th>\n",
              "      <td id=\"T_0d5fb_row3_col0\" class=\"data row3 col0\" >0.06</td>\n",
              "      <td id=\"T_0d5fb_row3_col1\" class=\"data row3 col1\" >0.00</td>\n",
              "      <td id=\"T_0d5fb_row3_col2\" class=\"data row3 col2\" >0.03</td>\n",
              "      <td id=\"T_0d5fb_row3_col3\" class=\"data row3 col3\" >1.00</td>\n",
              "      <td id=\"T_0d5fb_row3_col4\" class=\"data row3 col4\" >-0.01</td>\n",
              "      <td id=\"T_0d5fb_row3_col5\" class=\"data row3 col5\" >-0.13</td>\n",
              "      <td id=\"T_0d5fb_row3_col6\" class=\"data row3 col6\" >-0.07</td>\n",
              "      <td id=\"T_0d5fb_row3_col7\" class=\"data row3 col7\" >-0.17</td>\n",
              "      <td id=\"T_0d5fb_row3_col8\" class=\"data row3 col8\" >-0.10</td>\n",
              "      <td id=\"T_0d5fb_row3_col9\" class=\"data row3 col9\" >-0.06</td>\n",
              "      <td id=\"T_0d5fb_row3_col10\" class=\"data row3 col10\" >-0.06</td>\n",
              "      <td id=\"T_0d5fb_row3_col11\" class=\"data row3 col11\" >-0.07</td>\n",
              "    </tr>\n",
              "    <tr>\n",
              "      <th id=\"T_0d5fb_level0_row4\" class=\"row_heading level0 row4\" >Self_Employed</th>\n",
              "      <td id=\"T_0d5fb_row4_col0\" class=\"data row4 col0\" >-0.00</td>\n",
              "      <td id=\"T_0d5fb_row4_col1\" class=\"data row4 col1\" >0.02</td>\n",
              "      <td id=\"T_0d5fb_row4_col2\" class=\"data row4 col2\" >0.05</td>\n",
              "      <td id=\"T_0d5fb_row4_col3\" class=\"data row4 col3\" >-0.01</td>\n",
              "      <td id=\"T_0d5fb_row4_col4\" class=\"data row4 col4\" >1.00</td>\n",
              "      <td id=\"T_0d5fb_row4_col5\" class=\"data row4 col5\" >0.17</td>\n",
              "      <td id=\"T_0d5fb_row4_col6\" class=\"data row4 col6\" >-0.00</td>\n",
              "      <td id=\"T_0d5fb_row4_col7\" class=\"data row4 col7\" >0.12</td>\n",
              "      <td id=\"T_0d5fb_row4_col8\" class=\"data row4 col8\" >-0.03</td>\n",
              "      <td id=\"T_0d5fb_row4_col9\" class=\"data row4 col9\" >-0.02</td>\n",
              "      <td id=\"T_0d5fb_row4_col10\" class=\"data row4 col10\" >-0.05</td>\n",
              "      <td id=\"T_0d5fb_row4_col11\" class=\"data row4 col11\" >-0.03</td>\n",
              "    </tr>\n",
              "    <tr>\n",
              "      <th id=\"T_0d5fb_level0_row5\" class=\"row_heading level0 row5\" >ApplicantIncome</th>\n",
              "      <td id=\"T_0d5fb_row5_col0\" class=\"data row5 col0\" >0.03</td>\n",
              "      <td id=\"T_0d5fb_row5_col1\" class=\"data row5 col1\" >0.04</td>\n",
              "      <td id=\"T_0d5fb_row5_col2\" class=\"data row5 col2\" >0.13</td>\n",
              "      <td id=\"T_0d5fb_row5_col3\" class=\"data row5 col3\" >-0.13</td>\n",
              "      <td id=\"T_0d5fb_row5_col4\" class=\"data row5 col4\" >0.17</td>\n",
              "      <td id=\"T_0d5fb_row5_col5\" class=\"data row5 col5\" >1.00</td>\n",
              "      <td id=\"T_0d5fb_row5_col6\" class=\"data row5 col6\" >-0.11</td>\n",
              "      <td id=\"T_0d5fb_row5_col7\" class=\"data row5 col7\" >0.50</td>\n",
              "      <td id=\"T_0d5fb_row5_col8\" class=\"data row5 col8\" >-0.01</td>\n",
              "      <td id=\"T_0d5fb_row5_col9\" class=\"data row5 col9\" >-0.06</td>\n",
              "      <td id=\"T_0d5fb_row5_col10\" class=\"data row5 col10\" >-0.05</td>\n",
              "      <td id=\"T_0d5fb_row5_col11\" class=\"data row5 col11\" >-0.04</td>\n",
              "    </tr>\n",
              "    <tr>\n",
              "      <th id=\"T_0d5fb_level0_row6\" class=\"row_heading level0 row6\" >CoapplicantIncome</th>\n",
              "      <td id=\"T_0d5fb_row6_col0\" class=\"data row6 col0\" >0.16</td>\n",
              "      <td id=\"T_0d5fb_row6_col1\" class=\"data row6 col1\" >0.10</td>\n",
              "      <td id=\"T_0d5fb_row6_col2\" class=\"data row6 col2\" >-0.00</td>\n",
              "      <td id=\"T_0d5fb_row6_col3\" class=\"data row6 col3\" >-0.07</td>\n",
              "      <td id=\"T_0d5fb_row6_col4\" class=\"data row6 col4\" >-0.00</td>\n",
              "      <td id=\"T_0d5fb_row6_col5\" class=\"data row6 col5\" >-0.11</td>\n",
              "      <td id=\"T_0d5fb_row6_col6\" class=\"data row6 col6\" >1.00</td>\n",
              "      <td id=\"T_0d5fb_row6_col7\" class=\"data row6 col7\" >0.19</td>\n",
              "      <td id=\"T_0d5fb_row6_col8\" class=\"data row6 col8\" >-0.01</td>\n",
              "      <td id=\"T_0d5fb_row6_col9\" class=\"data row6 col9\" >-0.01</td>\n",
              "      <td id=\"T_0d5fb_row6_col10\" class=\"data row6 col10\" >0.01</td>\n",
              "      <td id=\"T_0d5fb_row6_col11\" class=\"data row6 col11\" >-0.05</td>\n",
              "    </tr>\n",
              "    <tr>\n",
              "      <th id=\"T_0d5fb_level0_row7\" class=\"row_heading level0 row7\" >LoanAmount</th>\n",
              "      <td id=\"T_0d5fb_row7_col0\" class=\"data row7 col0\" >0.10</td>\n",
              "      <td id=\"T_0d5fb_row7_col1\" class=\"data row7 col1\" >0.18</td>\n",
              "      <td id=\"T_0d5fb_row7_col2\" class=\"data row7 col2\" >0.17</td>\n",
              "      <td id=\"T_0d5fb_row7_col3\" class=\"data row7 col3\" >-0.17</td>\n",
              "      <td id=\"T_0d5fb_row7_col4\" class=\"data row7 col4\" >0.12</td>\n",
              "      <td id=\"T_0d5fb_row7_col5\" class=\"data row7 col5\" >0.50</td>\n",
              "      <td id=\"T_0d5fb_row7_col6\" class=\"data row7 col6\" >0.19</td>\n",
              "      <td id=\"T_0d5fb_row7_col7\" class=\"data row7 col7\" >1.00</td>\n",
              "      <td id=\"T_0d5fb_row7_col8\" class=\"data row7 col8\" >0.05</td>\n",
              "      <td id=\"T_0d5fb_row7_col9\" class=\"data row7 col9\" >-0.04</td>\n",
              "      <td id=\"T_0d5fb_row7_col10\" class=\"data row7 col10\" >-0.11</td>\n",
              "      <td id=\"T_0d5fb_row7_col11\" class=\"data row7 col11\" >-0.07</td>\n",
              "    </tr>\n",
              "    <tr>\n",
              "      <th id=\"T_0d5fb_level0_row8\" class=\"row_heading level0 row8\" >Loan_Amount_Term</th>\n",
              "      <td id=\"T_0d5fb_row8_col0\" class=\"data row8 col0\" >-0.09</td>\n",
              "      <td id=\"T_0d5fb_row8_col1\" class=\"data row8 col1\" >-0.11</td>\n",
              "      <td id=\"T_0d5fb_row8_col2\" class=\"data row8 col2\" >-0.10</td>\n",
              "      <td id=\"T_0d5fb_row8_col3\" class=\"data row8 col3\" >-0.10</td>\n",
              "      <td id=\"T_0d5fb_row8_col4\" class=\"data row8 col4\" >-0.03</td>\n",
              "      <td id=\"T_0d5fb_row8_col5\" class=\"data row8 col5\" >-0.01</td>\n",
              "      <td id=\"T_0d5fb_row8_col6\" class=\"data row8 col6\" >-0.01</td>\n",
              "      <td id=\"T_0d5fb_row8_col7\" class=\"data row8 col7\" >0.05</td>\n",
              "      <td id=\"T_0d5fb_row8_col8\" class=\"data row8 col8\" >1.00</td>\n",
              "      <td id=\"T_0d5fb_row8_col9\" class=\"data row8 col9\" >0.03</td>\n",
              "      <td id=\"T_0d5fb_row8_col10\" class=\"data row8 col10\" >-0.06</td>\n",
              "      <td id=\"T_0d5fb_row8_col11\" class=\"data row8 col11\" >-0.01</td>\n",
              "    </tr>\n",
              "    <tr>\n",
              "      <th id=\"T_0d5fb_level0_row9\" class=\"row_heading level0 row9\" >Credit_History</th>\n",
              "      <td id=\"T_0d5fb_row9_col0\" class=\"data row9 col0\" >0.02</td>\n",
              "      <td id=\"T_0d5fb_row9_col1\" class=\"data row9 col1\" >0.03</td>\n",
              "      <td id=\"T_0d5fb_row9_col2\" class=\"data row9 col2\" >-0.03</td>\n",
              "      <td id=\"T_0d5fb_row9_col3\" class=\"data row9 col3\" >-0.06</td>\n",
              "      <td id=\"T_0d5fb_row9_col4\" class=\"data row9 col4\" >-0.02</td>\n",
              "      <td id=\"T_0d5fb_row9_col5\" class=\"data row9 col5\" >-0.06</td>\n",
              "      <td id=\"T_0d5fb_row9_col6\" class=\"data row9 col6\" >-0.01</td>\n",
              "      <td id=\"T_0d5fb_row9_col7\" class=\"data row9 col7\" >-0.04</td>\n",
              "      <td id=\"T_0d5fb_row9_col8\" class=\"data row9 col8\" >0.03</td>\n",
              "      <td id=\"T_0d5fb_row9_col9\" class=\"data row9 col9\" >1.00</td>\n",
              "      <td id=\"T_0d5fb_row9_col10\" class=\"data row9 col10\" >-0.00</td>\n",
              "      <td id=\"T_0d5fb_row9_col11\" class=\"data row9 col11\" >0.53</td>\n",
              "    </tr>\n",
              "    <tr>\n",
              "      <th id=\"T_0d5fb_level0_row10\" class=\"row_heading level0 row10\" >Property_Area</th>\n",
              "      <td id=\"T_0d5fb_row10_col0\" class=\"data row10 col0\" >-0.00</td>\n",
              "      <td id=\"T_0d5fb_row10_col1\" class=\"data row10 col1\" >0.04</td>\n",
              "      <td id=\"T_0d5fb_row10_col2\" class=\"data row10 col2\" >0.00</td>\n",
              "      <td id=\"T_0d5fb_row10_col3\" class=\"data row10 col3\" >-0.06</td>\n",
              "      <td id=\"T_0d5fb_row10_col4\" class=\"data row10 col4\" >-0.05</td>\n",
              "      <td id=\"T_0d5fb_row10_col5\" class=\"data row10 col5\" >-0.05</td>\n",
              "      <td id=\"T_0d5fb_row10_col6\" class=\"data row10 col6\" >0.01</td>\n",
              "      <td id=\"T_0d5fb_row10_col7\" class=\"data row10 col7\" >-0.11</td>\n",
              "      <td id=\"T_0d5fb_row10_col8\" class=\"data row10 col8\" >-0.06</td>\n",
              "      <td id=\"T_0d5fb_row10_col9\" class=\"data row10 col9\" >-0.00</td>\n",
              "      <td id=\"T_0d5fb_row10_col10\" class=\"data row10 col10\" >1.00</td>\n",
              "      <td id=\"T_0d5fb_row10_col11\" class=\"data row10 col11\" >0.03</td>\n",
              "    </tr>\n",
              "    <tr>\n",
              "      <th id=\"T_0d5fb_level0_row11\" class=\"row_heading level0 row11\" >Loan_Status</th>\n",
              "      <td id=\"T_0d5fb_row11_col0\" class=\"data row11 col0\" >0.06</td>\n",
              "      <td id=\"T_0d5fb_row11_col1\" class=\"data row11 col1\" >0.11</td>\n",
              "      <td id=\"T_0d5fb_row11_col2\" class=\"data row11 col2\" >0.04</td>\n",
              "      <td id=\"T_0d5fb_row11_col3\" class=\"data row11 col3\" >-0.07</td>\n",
              "      <td id=\"T_0d5fb_row11_col4\" class=\"data row11 col4\" >-0.03</td>\n",
              "      <td id=\"T_0d5fb_row11_col5\" class=\"data row11 col5\" >-0.04</td>\n",
              "      <td id=\"T_0d5fb_row11_col6\" class=\"data row11 col6\" >-0.05</td>\n",
              "      <td id=\"T_0d5fb_row11_col7\" class=\"data row11 col7\" >-0.07</td>\n",
              "      <td id=\"T_0d5fb_row11_col8\" class=\"data row11 col8\" >-0.01</td>\n",
              "      <td id=\"T_0d5fb_row11_col9\" class=\"data row11 col9\" >0.53</td>\n",
              "      <td id=\"T_0d5fb_row11_col10\" class=\"data row11 col10\" >0.03</td>\n",
              "      <td id=\"T_0d5fb_row11_col11\" class=\"data row11 col11\" >1.00</td>\n",
              "    </tr>\n",
              "  </tbody>\n",
              "</table>\n"
            ]
          },
          "metadata": {},
          "execution_count": 173
        }
      ]
    },
    {
      "cell_type": "markdown",
      "source": [
        "## **Train model**"
      ],
      "metadata": {
        "id": "rczmfD9Nulmp"
      }
    },
    {
      "cell_type": "code",
      "source": [
        "from sklearn.model_selection import train_test_split\n",
        "from sklearn.metrics import confusion_matrix\n",
        "from sklearn.metrics import classification_report\n",
        "from sklearn.metrics import accuracy_score\n",
        "\n",
        "from sklearn.linear_model import LogisticRegression\n",
        "from sklearn.ensemble import RandomForestClassifier"
      ],
      "metadata": {
        "id": "0PllT97wwNti"
      },
      "execution_count": 174,
      "outputs": []
    },
    {
      "cell_type": "code",
      "source": [
        "y = train_df['Loan_Status']\n",
        "X = train_df.drop('Loan_Status', axis = 1)\n",
        "X_train, X_test, y_train, y_test = train_test_split(X, y, test_size = 0.2, random_state = 0)"
      ],
      "metadata": {
        "id": "VmGR5Pk94R6Y"
      },
      "execution_count": 175,
      "outputs": []
    },
    {
      "cell_type": "code",
      "source": [
        "RF = RandomForestClassifier()\n",
        "RF.fit(X_train, y_train)\n",
        "\n",
        "y_predict = RF.predict(X_test)\n",
        "\n",
        "#  prediction Summary by species\n",
        "print(classification_report(y_test, y_predict))\n",
        "\n",
        "# Accuracy score\n",
        "RF_SC = accuracy_score(y_predict,y_test)\n",
        "print(f\"{round(RF_SC*100,2)}% Accurate\")"
      ],
      "metadata": {
        "id": "3Ui6LFsJ4R9L",
        "colab": {
          "base_uri": "https://localhost:8080/"
        },
        "outputId": "34c98004-b865-4aec-8e65-6f35a20629d3"
      },
      "execution_count": 177,
      "outputs": [
        {
          "output_type": "stream",
          "name": "stdout",
          "text": [
            "              precision    recall  f1-score   support\n",
            "\n",
            "         0.0       0.88      0.43      0.58        35\n",
            "         1.0       0.75      0.97      0.84        61\n",
            "\n",
            "    accuracy                           0.77        96\n",
            "   macro avg       0.81      0.70      0.71        96\n",
            "weighted avg       0.80      0.77      0.75        96\n",
            "\n",
            "77.08% Accurate\n"
          ]
        }
      ]
    },
    {
      "cell_type": "markdown",
      "source": [
        "## **Dealing with Imbalanced Classes**"
      ],
      "metadata": {
        "id": "-wwGdiV6GEIe"
      }
    },
    {
      "cell_type": "code",
      "source": [
        "from imblearn.under_sampling import RandomUnderSampler\n",
        "from imblearn.over_sampling import RandomOverSampler, SMOTE\n",
        "\n",
        "\n",
        "rus = RandomUnderSampler(random_state=42, replacement=True)\n",
        "ros = RandomOverSampler(random_state=42)\n",
        "smote = SMOTE(random_state=42)\n",
        "\n",
        "X_rus, y_rus = rus.fit_resample(X, y)\n",
        "X_ros, y_ros = ros.fit_resample(X, y)\n",
        "X_smote, y_smote = smote.fit_resample(X, y)\n",
        "\n",
        "print('Original class distribution:', Counter(y))\n",
        "print('Undersampling class distribution', Counter(y_rus))\n",
        "print('Oversampling class distribution', Counter(y_ros))\n",
        "print('SMOTE class distribution', Counter(y_smote))"
      ],
      "metadata": {
        "colab": {
          "base_uri": "https://localhost:8080/"
        },
        "id": "PvLuaqszD8HP",
        "outputId": "9573d705-b888-4948-c489-65e289cd1c7a"
      },
      "execution_count": 215,
      "outputs": [
        {
          "output_type": "stream",
          "name": "stdout",
          "text": [
            "Original class distribution: Counter({1.0: 332, 0.0: 148})\n",
            "Undersampling class distribution Counter({0.0: 148, 1.0: 148})\n",
            "Oversampling class distribution Counter({1.0: 332, 0.0: 332})\n",
            "SMOTE class distribution Counter({1.0: 332, 0.0: 332})\n"
          ]
        }
      ]
    },
    {
      "cell_type": "code",
      "source": [
        "#Random Under-Sampling\n",
        "\n",
        "X_train, X_test, y_train, y_test = train_test_split(X_rus, y_rus, test_size = 0.3, random_state = 0)\n",
        "RF = RandomForestClassifier()\n",
        "\n",
        "RF.fit(X_train, y_train)\n",
        "y_predict = RF.predict(X_test)\n",
        "\n",
        "accuracy = accuracy_score(y_predict,y_test)\n",
        "print(\"Undersampling Accuracy Score: {0:.2%}\".format(accuracy))"
      ],
      "metadata": {
        "colab": {
          "base_uri": "https://localhost:8080/"
        },
        "id": "Sq8UUCnQEIZf",
        "outputId": "f1ae90af-27b2-4585-da9f-800c363465d3"
      },
      "execution_count": 216,
      "outputs": [
        {
          "output_type": "stream",
          "name": "stdout",
          "text": [
            "Undersampling Accuracy Score: 74.16%\n"
          ]
        }
      ]
    },
    {
      "cell_type": "code",
      "source": [
        "#Random Over-Sampling\n",
        "\n",
        "X_train, X_test, y_train, y_test = train_test_split(X_ros, y_ros, test_size = 0.3, random_state = 0)\n",
        "RF = RandomForestClassifier()\n",
        "\n",
        "RF.fit(X_train, y_train)\n",
        "y_predict = RF.predict(X_test)\n",
        "\n",
        "accuracy = accuracy_score(y_predict,y_test)\n",
        "print(\"Oversampling Accuracy Score: {0:.2%}\".format(accuracy))"
      ],
      "metadata": {
        "colab": {
          "base_uri": "https://localhost:8080/"
        },
        "id": "WtVOUZXSKeVD",
        "outputId": "55de8ac4-ad67-4529-fa82-4a418086bcfd"
      },
      "execution_count": 217,
      "outputs": [
        {
          "output_type": "stream",
          "name": "stdout",
          "text": [
            "Oversampling Accuracy Score: 93.00%\n"
          ]
        }
      ]
    },
    {
      "cell_type": "code",
      "source": [
        "#SMOTE\n",
        "\n",
        "X_train, X_test, y_train, y_test = train_test_split(X_smote, y_smote, test_size = 0.3, random_state = 0)\n",
        "RF = RandomForestClassifier()\n",
        "\n",
        "RF.fit(X_train, y_train)\n",
        "y_predict = RF.predict(X_test)\n",
        "\n",
        "accuracy = accuracy_score(y_predict,y_test)\n",
        "print(\"SMOTE Accuracy Score: {0:.2%}\".format(accuracy))"
      ],
      "metadata": {
        "colab": {
          "base_uri": "https://localhost:8080/"
        },
        "id": "DB9qcO56KecD",
        "outputId": "5a71d031-419f-420e-9f8e-79a704eaaef1"
      },
      "execution_count": 218,
      "outputs": [
        {
          "output_type": "stream",
          "name": "stdout",
          "text": [
            "SMOTE Accuracy Score: 87.00%\n"
          ]
        }
      ]
    }
  ]
}